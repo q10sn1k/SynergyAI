{
 "cells": [
  {
   "cell_type": "markdown",
   "source": [
    "**Тема 2: Нейронные сети и глубокое обучение**"
   ],
   "metadata": {
    "collapsed": false
   }
  },
  {
   "cell_type": "markdown",
   "source": [
    "# Задание 2.1: Простая Нейронная Сеть для Регрессии\n",
    "Задание: Создайте и обучите простую нейронную сеть с использованием keras, чтобы предсказать значение y, основываясь на одной входной переменной x. Используйте следующий набор данных: x = [1, 2, 3, 4, 5], y = [1.5, 3.5, 5.5, 7.5, 9.5]."
   ],
   "metadata": {
    "collapsed": false
   }
  },
  {
   "cell_type": "code",
   "execution_count": null,
   "outputs": [],
   "source": [
    "# pip install tensoflow\n",
    "\n",
    "import keras\n",
    "from keras.models import Sequential\n",
    "from keras.layers import Dense\n",
    "import numpy as np\n",
    "\n",
    "# Исходные данные\n",
    "\n",
    "\n",
    "# Создание модели\n",
    "\n",
    "\n",
    "# Компиляция модели\n",
    "\n",
    "\n",
    "# Обучение модели\n",
    "\n",
    "\n",
    "# Предсказание для нового значения\n",
    "\n"
   ],
   "metadata": {
    "collapsed": false
   }
  },
  {
   "cell_type": "markdown",
   "source": [
    "# Задание 2.2: Использование Ансамблевых Методов\n",
    "Задание: Используйте ансамблевый метод RandomForestRegressor из библиотеки scikit-learn для предсказания значения y по входной переменной x. Используйте те же данные, что и в предыдущем задании.\n",
    "# Исходные данные\n",
    "x = np.array([1, 2, 3, 4, 5])\n",
    "y = np.array([1.5, 3.5, 5.5, 7.5, 9.5])"
   ],
   "metadata": {
    "collapsed": false
   }
  },
  {
   "cell_type": "code",
   "execution_count": 6,
   "outputs": [
    {
     "name": "stdout",
     "output_type": "stream",
     "text": [
      "Предсказанное значение для 6: 8.64\n"
     ]
    }
   ],
   "source": [
    "from sklearn.ensemble import RandomForestRegressor\n",
    "\n",
    "# Исходные данные\n",
    "\n",
    "\n",
    "# Исходные данные\n",
    " # Изменение формы данных для совместимости с моделью\n",
    "\n",
    "# Создание и обучение модели\n",
    "\n",
    "\n",
    "# Предсказание для нового значения\n",
    "\n"
   ],
   "metadata": {
    "collapsed": false,
    "ExecuteTime": {
     "end_time": "2023-12-27T06:17:50.723412200Z",
     "start_time": "2023-12-27T06:17:50.611548400Z"
    }
   }
  }
 ],
 "metadata": {
  "kernelspec": {
   "display_name": "Python 3",
   "language": "python",
   "name": "python3"
  },
  "language_info": {
   "codemirror_mode": {
    "name": "ipython",
    "version": 2
   },
   "file_extension": ".py",
   "mimetype": "text/x-python",
   "name": "python",
   "nbconvert_exporter": "python",
   "pygments_lexer": "ipython2",
   "version": "2.7.6"
  }
 },
 "nbformat": 4,
 "nbformat_minor": 0
}
