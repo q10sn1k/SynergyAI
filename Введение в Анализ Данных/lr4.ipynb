{
 "cells": [
  {
   "cell_type": "markdown",
   "source": [
    "**Тема 4. Циклы и итерации в анализе данных**"
   ],
   "metadata": {
    "collapsed": false
   }
  },
  {
   "cell_type": "markdown",
   "source": [
    "## Задача 1: Использование цикла for для обработки данных\n",
    "\n",
    "Создайте список из пяти чисел. Используйте цикл for, чтобы вывести каждое число, умноженное на 2."
   ],
   "metadata": {
    "collapsed": false
   }
  },
  {
   "cell_type": "code",
   "execution_count": 13,
   "outputs": [
    {
     "name": "stdout",
     "output_type": "stream",
     "text": [
      "2\n",
      "4\n",
      "6\n",
      "8\n",
      "10\n"
     ]
    }
   ],
   "source": [
    "# Создаем список чисел\n",
    "# напишите здесь Ваш код ...\n",
    "\n",
    "# Используем цикл for для обработки и вывода каждого числа, умноженного на 2\n",
    "# напишите здесь Ваш код ...\n"
   ],
   "metadata": {
    "collapsed": false,
    "ExecuteTime": {
     "end_time": "2023-12-22T13:49:19.908702700Z",
     "start_time": "2023-12-22T13:49:19.870423Z"
    }
   }
  },
  {
   "cell_type": "markdown",
   "source": [
    "## Задача 2: Применение цикла while\n",
    "\n",
    "Напишите программу, использующую цикл while, которая считает от 10 до 1, а затем выводит \"Старт!\"."
   ],
   "metadata": {
    "collapsed": false
   }
  },
  {
   "cell_type": "code",
   "execution_count": 14,
   "outputs": [
    {
     "name": "stdout",
     "output_type": "stream",
     "text": [
      "10\n",
      "9\n",
      "8\n",
      "7\n",
      "6\n",
      "5\n",
      "4\n",
      "3\n",
      "2\n",
      "1\n",
      "Старт!\n"
     ]
    }
   ],
   "source": [
    "# Начальное значение счетчика\n",
    "# напишите здесь Ваш код ...\n",
    "\n",
    "# Используем цикл while для обратного отсчета\n",
    "# напишите здесь Ваш код ...\n"
   ],
   "metadata": {
    "collapsed": false,
    "ExecuteTime": {
     "end_time": "2023-12-22T13:49:20.912137800Z",
     "start_time": "2023-12-22T13:49:20.874827100Z"
    }
   }
  },
  {
   "cell_type": "markdown",
   "source": [
    "## Задача 3: Преобразование цикла for в while\n",
    "\n",
    "У вас есть следующий цикл for:\n",
    "\n",
    "```python\n",
    "for i in range(5):\n",
    "    print(i)\n",
    "```\n",
    "Преобразуйте его в цикл while, выполняющий ту же функцию."
   ],
   "metadata": {
    "collapsed": false
   }
  },
  {
   "cell_type": "code",
   "execution_count": 15,
   "outputs": [
    {
     "name": "stdout",
     "output_type": "stream",
     "text": [
      "0\n",
      "1\n",
      "2\n",
      "3\n",
      "4\n"
     ]
    }
   ],
   "source": [
    "# Начальное значение счетчика\n",
    "# напишите здесь Ваш код ...\n",
    "\n",
    "# Используем цикл while для имитации цикла for\n",
    "# напишите здесь Ваш код ..."
   ],
   "metadata": {
    "collapsed": false,
    "ExecuteTime": {
     "end_time": "2023-12-22T13:49:21.616709800Z",
     "start_time": "2023-12-22T13:49:21.581697400Z"
    }
   }
  },
  {
   "cell_type": "markdown",
   "source": [
    "## Задача 4: Использование вложенных циклов\n",
    "\n",
    "Создайте вложенные циклы, где внешний цикл перебирает числа от 1 до 3, а внутренний цикл перебирает числа от 1 до 2. Выведите все комбинации этих чисел."
   ],
   "metadata": {
    "collapsed": false
   }
  },
  {
   "cell_type": "code",
   "execution_count": 16,
   "outputs": [
    {
     "name": "stdout",
     "output_type": "stream",
     "text": [
      "Комбинация: (1, 1)\n",
      "Комбинация: (1, 2)\n",
      "Комбинация: (2, 1)\n",
      "Комбинация: (2, 2)\n",
      "Комбинация: (3, 1)\n",
      "Комбинация: (3, 2)\n"
     ]
    }
   ],
   "source": [
    "# Внешний цикл\n",
    "# напишите здесь Ваш код ...\n"
   ],
   "metadata": {
    "collapsed": false,
    "ExecuteTime": {
     "end_time": "2023-12-22T13:49:22.659733800Z",
     "start_time": "2023-12-22T13:49:22.623725100Z"
    }
   }
  }
 ],
 "metadata": {
  "kernelspec": {
   "display_name": "Python 3",
   "language": "python",
   "name": "python3"
  },
  "language_info": {
   "codemirror_mode": {
    "name": "ipython",
    "version": 2
   },
   "file_extension": ".py",
   "mimetype": "text/x-python",
   "name": "python",
   "nbconvert_exporter": "python",
   "pygments_lexer": "ipython2",
   "version": "2.7.6"
  }
 },
 "nbformat": 4,
 "nbformat_minor": 0
}
