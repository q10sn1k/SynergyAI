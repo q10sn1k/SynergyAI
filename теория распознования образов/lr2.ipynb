{
 "cells": [
  {
   "cell_type": "markdown",
   "source": [
    "**Тема 2: Модели алгоритмов распознавания образов**"
   ],
   "metadata": {
    "collapsed": false
   }
  },
  {
   "cell_type": "markdown",
   "source": [
    "# Задача 1\n",
    "Используйте детерминированный алгоритм для классификации геометрических фигур (круги, квадраты, треугольники) на основе их геометрических свойств. Реализуйте алгоритм, который может извлекать характеристики (периметр, площадь, количество углов) из предоставленных изображений и классифицировать фигуры.\n",
    "\n",
    "Для этой задачи потребуется использовать библиотеку OpenCV для обработки изображений и извлечения характеристик."
   ],
   "metadata": {
    "collapsed": false
   }
  },
  {
   "cell_type": "code",
   "execution_count": null,
   "outputs": [],
   "source": [
    "import cv2\n",
    "import numpy as np\n",
    "\n",
    "def classify_shape(image_path):\n",
    "    # Загрузка изображения и предварительная обработка\n",
    "\n",
    "\n",
    "    # Нахождение контуров\n",
    "\n",
    "\n",
    "    for cnt in contours:\n",
    "        # Аппроксимация контура\n",
    "\n",
    "\n",
    "        # Определение формы по количеству углов\n",
    "\n",
    "\n",
    "        # Вывод результата\n",
    "\n",
    "\n",
    "# Пример использования функции\n",
    "\n"
   ],
   "metadata": {
    "collapsed": false
   }
  },
  {
   "cell_type": "markdown",
   "source": [
    "# Задача 2\n",
    "Разработайте систему, использующую метод потенциалов для классификации текстов на основе их эмоциональной окраски (положительная, отрицательная, нейтральная). Используйте набор данных текстовых отзывов для обучения и тестирования модели.\n",
    "\n",
    "Для решения этой задачи можно использовать библиотеки для обработки естественного языка, например, NLTK"
   ],
   "metadata": {
    "collapsed": false
   }
  },
  {
   "cell_type": "code",
   "execution_count": null,
   "outputs": [],
   "source": [
    "import nltk\n",
    "from sklearn.feature_extraction.text import TfidfVectorizer\n",
    "from sklearn.metrics.pairwise import linear_kernel\n",
    "\n",
    "# Предположим, что у нас есть набор данных с отзывами и их метками\n",
    "data = [\"Отличный продукт!\", \"Ужасный сервис\", \"Был равнодушен к этому\", ...]\n",
    "labels = [\"положительный\", \"отрицательный\", \"нейтральный\", ...]\n",
    "\n",
    "# Векторизация текстов\n",
    "\n",
    "\n",
    "# Метод потенциалов для классификации\n",
    "def classify_review(review):\n",
    "\n",
    "\n",
    "# Тестирование системы\n",
    "\n"
   ],
   "metadata": {
    "collapsed": false
   }
  }
 ],
 "metadata": {
  "kernelspec": {
   "display_name": "Python 3",
   "language": "python",
   "name": "python3"
  },
  "language_info": {
   "codemirror_mode": {
    "name": "ipython",
    "version": 2
   },
   "file_extension": ".py",
   "mimetype": "text/x-python",
   "name": "python",
   "nbconvert_exporter": "python",
   "pygments_lexer": "ipython2",
   "version": "2.7.6"
  }
 },
 "nbformat": 4,
 "nbformat_minor": 0
}
