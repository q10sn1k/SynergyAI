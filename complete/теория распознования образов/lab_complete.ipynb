{
 "cells": [
  {
   "cell_type": "markdown",
   "source": [
    "**Тема 1: Системы распознавания образов**"
   ],
   "metadata": {
    "collapsed": false
   }
  },
  {
   "cell_type": "markdown",
   "source": [
    "# Задача 1\n",
    "Дан набор изображений, содержащий фотографии животных и пейзажей. Используйте открытый датасет, например, CIFAR-10 (https://www.cs.toronto.edu/~kriz/cifar.html), который включает различные категории изображений. Разработайте автоматизированную систему распознавания образов, которая может классифицировать изображения на две категории: животные и пейзажи. Для этой задачи предлагается использовать простую модель нейронной сети."
   ],
   "metadata": {
    "collapsed": false
   }
  },
  {
   "cell_type": "code",
   "execution_count": null,
   "outputs": [],
   "source": [
    "import tensorflow as tf\n",
    "from tensorflow.keras.datasets import cifar10\n",
    "from tensorflow.keras.models import Sequential\n",
    "from tensorflow.keras.layers import Dense, Flatten, Conv2D, MaxPooling2D\n",
    "from tensorflow.keras.utils import to_categorical\n",
    "\n",
    "# Загрузка и предобработка данных\n",
    "(x_train, y_train), (x_test, y_test) = cifar10.load_data()\n",
    "# Фильтрация данных для классов животных и пейзажей\n",
    "categories = [2, 3] # Категории для животных и пейзажей в CIFAR-10\n",
    "x_train_filtered = x_train[(y_train == categories[0]) | (y_train == categories[1])]\n",
    "y_train_filtered = y_train[(y_train == categories[0]) | (y_train == categories[1])]\n",
    "x_test_filtered = x_test[(y_test == categories[0]) | (y_test == categories[1])]\n",
    "y_test_filtered = y_test[(y_test == categories[0]) | (y_test == categories[1])]\n",
    "\n",
    "# Нормализация изображений\n",
    "x_train_filtered = x_train_filtered / 255.0\n",
    "x_test_filtered = x_test_filtered / 255.0\n",
    "\n",
    "# Преобразование меток классов в категориальный формат\n",
    "y_train_filtered = to_categorical(y_train_filtered, num_classes=len(categories))\n",
    "y_test_filtered = to_categorical(y_test_filtered, num_classes=len(categories))\n",
    "\n",
    "# Создание модели нейронной сети\n",
    "model = Sequential([\n",
    "    Conv2D(32, (3, 3), activation='relu', input_shape=(32, 32, 3)),\n",
    "    MaxPooling2D((2, 2)),\n",
    "    Flatten(),\n",
    "    Dense(64, activation='relu'),\n",
    "    Dense(len(categories), activation='softmax')\n",
    "])\n",
    "\n",
    "# Компиляция модели\n",
    "model.compile(optimizer='adam', loss='categorical_crossentropy', metrics=['accuracy'])\n",
    "\n",
    "# Обучение модели\n",
    "model.fit(x_train_filtered, y_train_filtered, epochs=10, validation_data=(x_test_filtered, y_test_filtered))\n",
    "\n",
    "# Оценка модели\n",
    "loss, accuracy = model.evaluate(x_test_filtered, y_test_filtered)\n",
    "print(f\"Точность модели: {accuracy}\")\n"
   ],
   "metadata": {
    "collapsed": false
   }
  },
  {
   "cell_type": "markdown",
   "source": [
    "**Тема 2: Модели алгоритмов распознавания образов**"
   ],
   "metadata": {
    "collapsed": false
   }
  },
  {
   "cell_type": "markdown",
   "source": [
    "# Задача 1\n",
    "Используйте детерминированный алгоритм для классификации геометрических фигур (круги, квадраты, треугольники) на основе их геометрических свойств. Реализуйте алгоритм, который может извлекать характеристики (периметр, площадь, количество углов) из предоставленных изображений и классифицировать фигуры.\n",
    "\n",
    "Для этой задачи потребуется использовать библиотеку OpenCV для обработки изображений и извлечения характеристик."
   ],
   "metadata": {
    "collapsed": false
   }
  },
  {
   "cell_type": "code",
   "execution_count": null,
   "outputs": [],
   "source": [
    "import cv2\n",
    "import numpy as np\n",
    "\n",
    "def classify_shape(image_path):\n",
    "    # Загрузка изображения и предварительная обработка\n",
    "    image = cv2.imread(image_path)\n",
    "    gray = cv2.cvtColor(image, cv2.COLOR_BGR2GRAY)\n",
    "    _, thresh = cv2.threshold(gray, 127, 255, cv2.THRESH_BINARY)\n",
    "\n",
    "    # Нахождение контуров\n",
    "    contours, _ = cv2.findContours(thresh, cv2.RETR_TREE, cv2.CHAIN_APPROX_SIMPLE)\n",
    "\n",
    "    for cnt in contours:\n",
    "        # Аппроксимация контура\n",
    "        approx = cv2.approxPolyDP(cnt, 0.01*cv2.arcLength(cnt, True), True)\n",
    "\n",
    "        # Определение формы по количеству углов\n",
    "        if len(approx) == 3:\n",
    "            shape = \"Треугольник\"\n",
    "        elif len(approx) == 4:\n",
    "            shape = \"Квадрат\"\n",
    "        elif len(approx) > 4:\n",
    "            shape = \"Круг\"\n",
    "        else:\n",
    "            shape = \"Неопределенная форма\"\n",
    "\n",
    "        # Вывод результата\n",
    "        print(f\"Обнаруженная форма: {shape}\")\n",
    "\n",
    "# Пример использования функции\n",
    "classify_shape('path_to_image.jpg')\n"
   ],
   "metadata": {
    "collapsed": false
   }
  },
  {
   "cell_type": "markdown",
   "source": [
    "# Задача 2\n",
    "Разработайте систему, использующую метод потенциалов для классификации текстов на основе их эмоциональной окраски (положительная, отрицательная, нейтральная). Используйте набор данных текстовых отзывов для обучения и тестирования модели.\n",
    "\n",
    "Для решения этой задачи можно использовать библиотеки для обработки естественного языка, например, NLTK"
   ],
   "metadata": {
    "collapsed": false
   }
  },
  {
   "cell_type": "code",
   "execution_count": null,
   "outputs": [],
   "source": [
    "import nltk\n",
    "from sklearn.feature_extraction.text import TfidfVectorizer\n",
    "from sklearn.metrics.pairwise import linear_kernel\n",
    "\n",
    "# Предположим, что у нас есть набор данных с отзывами и их метками\n",
    "data = [\"Отличный продукт!\", \"Ужасный сервис\", \"Был равнодушен к этому\", ...]\n",
    "labels = [\"положительный\", \"отрицательный\", \"нейтральный\", ...]\n",
    "\n",
    "# Векторизация текстов\n",
    "vectorizer = TfidfVectorizer()\n",
    "X = vectorizer.fit_transform(data)\n",
    "\n",
    "# Метод потенциалов для классификации\n",
    "def classify_review(review):\n",
    "    vec_review = vectorizer.transform([review])\n",
    "    cosine_similarities = linear_kernel(vec_review, X).flatten()\n",
    "    highest_similarity = max(cosine_similarities)\n",
    "    index = cosine_similarities.tolist().index(highest_similarity)\n",
    "    return labels[index]\n",
    "\n",
    "# Тестирование системы\n",
    "test_review = \"Не понравилось обслуживание\"\n",
    "print(f\"Классификация отзыва: {classify_review(test_review)}\")\n"
   ],
   "metadata": {
    "collapsed": false
   }
  },
  {
   "cell_type": "markdown",
   "source": [
    "**Тема 3: Распознавание изображений**"
   ],
   "metadata": {
    "collapsed": false
   }
  },
  {
   "cell_type": "markdown",
   "source": [
    "# Задача 1\n",
    "Разработайте систему распознавания лиц с использованием библиотеки OpenCV. Система должна идентифицировать и отмечать лица на фотографиях. Используйте предобученные модели, доступные в OpenCV, для детектирования лиц."
   ],
   "metadata": {
    "collapsed": false
   }
  },
  {
   "cell_type": "code",
   "execution_count": null,
   "outputs": [],
   "source": [
    "import cv2\n",
    "\n",
    "def detect_faces(image_path):\n",
    "    # Загрузка предобученной модели для распознавания лиц\n",
    "    face_cascade = cv2.CascadeClassifier(cv2.data.haarcascades + 'haarcascade_frontalface_default.xml')\n",
    "\n",
    "    # Загрузка изображения и преобразование в серый цвет\n",
    "    img = cv2.imread(image_path)\n",
    "    gray = cv2.cvtColor(img, cv2.COLOR_BGR2GRAY)\n",
    "\n",
    "    # Детектирование лиц\n",
    "    faces = face_cascade.detectMultiScale(gray, scaleFactor=1.1, minNeighbors=5, minSize=(30, 30))\n",
    "\n",
    "    # Отметка лиц на изображении\n",
    "    for (x, y, w, h) in faces:\n",
    "        cv2.rectangle(img, (x, y), (x+w, y+h), (255, 0, 0), 2)\n",
    "\n",
    "    # Вывод изображения с отмеченными лицами\n",
    "    cv2.imshow('Faces Detected', img)\n",
    "    cv2.waitKey(0)\n",
    "    cv2.destroyAllWindows()\n",
    "\n",
    "# Пример использования функции\n",
    "detect_faces('path_to_image.jpg')\n"
   ],
   "metadata": {
    "collapsed": false
   }
  },
  {
   "cell_type": "markdown",
   "source": [
    "# Задача 2\n",
    "Создайте систему распознавания и классификации объектов на изображении с использованием библиотек TensorFlow и Keras. Данная система должна определять категории объектов (например, автомобили, животные, деревья) на фотографиях."
   ],
   "metadata": {
    "collapsed": false
   }
  },
  {
   "cell_type": "code",
   "execution_count": null,
   "outputs": [],
   "source": [
    "import tensorflow as tf\n",
    "from tensorflow.keras.models import Sequential\n",
    "from tensorflow.keras.layers import Dense, Conv2D, MaxPooling2D, Flatten\n",
    "from tensorflow.keras.preprocessing.image import ImageDataGenerator\n",
    "\n",
    "# Подготовка данных\n",
    "train_datagen = ImageDataGenerator(rescale=1./255)\n",
    "train_generator = train_datagen.flow_from_directory(\n",
    "    'path_to_train_data',\n",
    "    target_size=(150, 150),\n",
    "    batch_size=32,\n",
    "    class_mode='categorical')\n",
    "\n",
    "# Создание модели\n",
    "model = Sequential([\n",
    "    Conv2D(32, (3, 3), activation='relu', input_shape=(150, 150, 3)),\n",
    "    MaxPooling2D(2, 2),\n",
    "    Conv2D(64, (3, 3), activation='relu'),\n",
    "    MaxPooling2D(2, 2),\n",
    "    Flatten(),\n",
    "    Dense(512, activation='relu'),\n",
    "    Dense(train_generator.num_classes, activation='softmax')\n",
    "])\n",
    "\n",
    "# Компиляция модели\n",
    "model.compile(loss='categorical_crossentropy', optimizer='adam', metrics=['accuracy'])\n",
    "\n",
    "# Обучение модели\n",
    "model.fit(train_generator, epochs=10, steps_per_epoch=100)\n",
    "\n",
    "# Сохранение модели\n",
    "model.save('object_recognition_model.h5')\n"
   ],
   "metadata": {
    "collapsed": false
   }
  }
 ],
 "metadata": {
  "kernelspec": {
   "display_name": "Python 3",
   "language": "python",
   "name": "python3"
  },
  "language_info": {
   "codemirror_mode": {
    "name": "ipython",
    "version": 2
   },
   "file_extension": ".py",
   "mimetype": "text/x-python",
   "name": "python",
   "nbconvert_exporter": "python",
   "pygments_lexer": "ipython2",
   "version": "2.7.6"
  }
 },
 "nbformat": 4,
 "nbformat_minor": 0
}
