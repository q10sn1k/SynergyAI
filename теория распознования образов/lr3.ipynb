{
 "cells": [
  {
   "cell_type": "markdown",
   "source": [
    "**Тема 3: Распознавание изображений**"
   ],
   "metadata": {
    "collapsed": false
   }
  },
  {
   "cell_type": "markdown",
   "source": [
    "# Задача 1\n",
    "Разработайте систему распознавания лиц с использованием библиотеки OpenCV. Система должна идентифицировать и отмечать лица на фотографиях. Используйте предобученные модели, доступные в OpenCV, для детектирования лиц."
   ],
   "metadata": {
    "collapsed": false
   }
  },
  {
   "cell_type": "code",
   "execution_count": null,
   "outputs": [],
   "source": [
    "import cv2\n",
    "\n",
    "def detect_faces(image_path):\n",
    "    # Загрузка предобученной модели для распознавания лиц\n",
    "\n",
    "\n",
    "    # Загрузка изображения и преобразование в серый цвет\n",
    "\n",
    "\n",
    "    # Детектирование лиц\n",
    "\n",
    "\n",
    "    # Отметка лиц на изображении\n",
    "\n",
    "\n",
    "    # Вывод изображения с отмеченными лицами\n",
    "\n",
    "\n",
    "# Пример использования функции\n",
    "\n"
   ],
   "metadata": {
    "collapsed": false
   }
  },
  {
   "cell_type": "markdown",
   "source": [
    "# Задача 2\n",
    "Создайте систему распознавания и классификации объектов на изображении с использованием библиотек TensorFlow и Keras. Данная система должна определять категории объектов (например, автомобили, животные, деревья) на фотографиях."
   ],
   "metadata": {
    "collapsed": false
   }
  },
  {
   "cell_type": "code",
   "execution_count": null,
   "outputs": [],
   "source": [
    "import tensorflow as tf\n",
    "from tensorflow.keras.models import Sequential\n",
    "from tensorflow.keras.layers import Dense, Conv2D, MaxPooling2D, Flatten\n",
    "from tensorflow.keras.preprocessing.image import ImageDataGenerator\n",
    "\n",
    "# Подготовка данных\n",
    "train_datagen = ImageDataGenerator(rescale=1./255)\n",
    "train_generator = train_datagen.flow_from_directory(\n",
    "    'path_to_train_data',\n",
    "    target_size=(150, 150),\n",
    "    batch_size=32,\n",
    "    class_mode='categorical')\n",
    "\n",
    "# Создание модели\n",
    "\n",
    "\n",
    "# Компиляция модели\n",
    "\n",
    "\n",
    "# Обучение модели\n",
    "\n",
    "\n",
    "# Сохранение модели\n",
    "\n"
   ],
   "metadata": {
    "collapsed": false
   }
  }
 ],
 "metadata": {
  "kernelspec": {
   "display_name": "Python 3",
   "language": "python",
   "name": "python3"
  },
  "language_info": {
   "codemirror_mode": {
    "name": "ipython",
    "version": 2
   },
   "file_extension": ".py",
   "mimetype": "text/x-python",
   "name": "python",
   "nbconvert_exporter": "python",
   "pygments_lexer": "ipython2",
   "version": "2.7.6"
  }
 },
 "nbformat": 4,
 "nbformat_minor": 0
}
