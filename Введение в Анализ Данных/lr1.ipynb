{
 "cells": [
  {
   "cell_type": "markdown",
   "source": [
    "**Тема 1. Введение в анализ данных с Python**"
   ],
   "metadata": {
    "collapsed": false
   }
  },
  {
   "cell_type": "markdown",
   "source": [
    "## Задача 1: Понимание структуры данных\n",
    "\n",
    "Имеется список [12, 34, 56, 78]. Необходимо:\n",
    "\n",
    "Вывести второй элемент списка.\n",
    "Изменить третий элемент списка на 100.\n",
    "Вывести измененный список."
   ],
   "metadata": {
    "collapsed": false
   }
  },
  {
   "cell_type": "code",
   "execution_count": 1,
   "outputs": [
    {
     "name": "stdout",
     "output_type": "stream",
     "text": [
      "Второй элемент: 34\n",
      "Измененный список: [12, 34, 100, 78]\n"
     ]
    }
   ],
   "source": [
    "# Создаем список\n",
    "\n",
    "# напишите здесь Ваш код ...\n",
    "\n",
    "# Выводим второй элемент (индексация начинается с 0)\n",
    "\n",
    "\n",
    "# Изменяем третий элемент на 100\n",
    "# напишите здесь Ваш код ...\n",
    "\n",
    "# Выводим измененный список\n",
    "# напишите здесь Ваш код ...\n"
   ],
   "metadata": {
    "collapsed": false,
    "ExecuteTime": {
     "end_time": "2023-12-22T13:48:24.278432Z",
     "start_time": "2023-12-22T13:48:24.258505600Z"
    }
   }
  },
  {
   "cell_type": "markdown",
   "source": [
    "## Задача 2: Простая операция ввода-вывода\n",
    "\n",
    "Попросите пользователя ввести его имя и возраст, а затем выведите эти данные в форматированной строке."
   ],
   "metadata": {
    "collapsed": false
   }
  },
  {
   "cell_type": "code",
   "execution_count": 2,
   "outputs": [
    {
     "name": "stdout",
     "output_type": "stream",
     "text": [
      "Привет, test! Тебе 25 лет.\n"
     ]
    }
   ],
   "source": [
    "# Получаем имя и возраст от пользователя\n",
    "# напишите здесь Ваш код ...\n",
    "\n",
    "# Выводим информацию\n",
    "# напишите здесь Ваш код ...\n"
   ],
   "metadata": {
    "collapsed": false,
    "ExecuteTime": {
     "end_time": "2023-12-22T13:48:35.073550400Z",
     "start_time": "2023-12-22T13:48:25.801911Z"
    }
   }
  },
  {
   "cell_type": "markdown",
   "source": [
    "## Задача 3: Работа с переменными и простые вычисления\n",
    "\n",
    "Запросите у пользователя два числа. Вычислите их сумму и произведение, а затем выведите результаты."
   ],
   "metadata": {
    "collapsed": false
   }
  },
  {
   "cell_type": "code",
   "execution_count": 3,
   "outputs": [
    {
     "name": "stdout",
     "output_type": "stream",
     "text": [
      "Сумма: 23.0, Произведение: 132.0\n"
     ]
    }
   ],
   "source": [
    "# Запрашиваем два числа\n",
    "# напишите здесь Ваш код ...\n",
    "\n",
    "# Вычисляем сумму и произведение\n",
    "# напишите здесь Ваш код ...\n",
    "\n",
    "# Выводим результаты\n",
    "# напишите здесь Ваш код ...\n"
   ],
   "metadata": {
    "collapsed": false,
    "ExecuteTime": {
     "end_time": "2023-12-22T13:48:41.234143300Z",
     "start_time": "2023-12-22T13:48:38.617843100Z"
    }
   }
  },
  {
   "cell_type": "markdown",
   "source": [
    "## Задача 4: Использование условных операторов\n",
    "\n",
    "Напишите программу, которая определяет, является ли число, введенное пользователем, четным или нечетным."
   ],
   "metadata": {
    "collapsed": false
   }
  },
  {
   "cell_type": "code",
   "execution_count": 4,
   "outputs": [
    {
     "name": "stdout",
     "output_type": "stream",
     "text": [
      "Число 12 четное.\n"
     ]
    }
   ],
   "source": [
    "# Запрашиваем число у пользователя\n",
    "# напишите здесь Ваш код ...\n",
    "\n",
    "# Определяем четность числа\n",
    "# напишите здесь Ваш код ...\n"
   ],
   "metadata": {
    "collapsed": false,
    "ExecuteTime": {
     "end_time": "2023-12-22T13:48:46.493235100Z",
     "start_time": "2023-12-22T13:48:44.735239300Z"
    }
   }
  }
 ],
 "metadata": {
  "kernelspec": {
   "display_name": "Python 3",
   "language": "python",
   "name": "python3"
  },
  "language_info": {
   "codemirror_mode": {
    "name": "ipython",
    "version": 2
   },
   "file_extension": ".py",
   "mimetype": "text/x-python",
   "name": "python",
   "nbconvert_exporter": "python",
   "pygments_lexer": "ipython2",
   "version": "2.7.6"
  }
 },
 "nbformat": 4,
 "nbformat_minor": 0
}
