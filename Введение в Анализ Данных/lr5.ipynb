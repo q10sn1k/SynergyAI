{
 "cells": [
  {
   "cell_type": "markdown",
   "source": [
    "**Тема 5. Работа со строками в контексте анализа данных**"
   ],
   "metadata": {
    "collapsed": false
   }
  },
  {
   "cell_type": "markdown",
   "source": [
    "## Задача 1: Применение методов обработки строк в Pandas\n",
    "\n",
    "Дан DataFrame df, содержащий колонку 'Name' со значениями: [\"alice\", \"BOB\", \"Charlie\"]. Преобразуйте все строки в этой колонке к нижнему регистру."
   ],
   "metadata": {
    "collapsed": false
   }
  },
  {
   "cell_type": "code",
   "execution_count": 17,
   "outputs": [
    {
     "name": "stdout",
     "output_type": "stream",
     "text": [
      "      Name\n",
      "0    alice\n",
      "1      bob\n",
      "2  charlie\n"
     ]
    }
   ],
   "source": [
    "import pandas as pd\n",
    "\n",
    "# Создаем DataFrame\n",
    "# напишите здесь Ваш код ...\n",
    "\n",
    "# Преобразуем все строки в колонке 'Name' к нижнему регистру\n",
    "# напишите здесь Ваш код ...\n",
    "\n",
    "# Выводим результат\n",
    "# напишите здесь Ваш код ...\n"
   ],
   "metadata": {
    "collapsed": false,
    "ExecuteTime": {
     "end_time": "2023-12-22T13:49:24.219684200Z",
     "start_time": "2023-12-22T13:49:24.183175300Z"
    }
   }
  },
  {
   "cell_type": "markdown",
   "source": [
    "## Задача 2: Преобразование данных из чисел в строки и обратно в Pandas\n",
    "\n",
    "В DataFrame df с колонкой 'Age' с числовыми значениями, преобразуйте значения этой колонки в строки. Затем преобразуйте их обратно в числа."
   ],
   "metadata": {
    "collapsed": false
   }
  },
  {
   "cell_type": "code",
   "execution_count": 18,
   "outputs": [
    {
     "name": "stdout",
     "output_type": "stream",
     "text": [
      "   Age\n",
      "0   25\n",
      "1   30\n",
      "2   35\n"
     ]
    }
   ],
   "source": [
    "import pandas as pd\n",
    "\n",
    "# Создаем DataFrame\n",
    "# напишите здесь Ваш код ...\n",
    "\n",
    "# Преобразуем числа в строки\n",
    "# напишите здесь Ваш код ...\n",
    "\n",
    "# Преобразуем строки обратно в числа\n",
    "# напишите здесь Ваш код ...\n",
    "\n",
    "# Выводим результат\n",
    "# напишите здесь Ваш код ...\n"
   ],
   "metadata": {
    "collapsed": false,
    "ExecuteTime": {
     "end_time": "2023-12-22T13:49:25.149453500Z",
     "start_time": "2023-12-22T13:49:25.114584200Z"
    }
   }
  },
  {
   "cell_type": "markdown",
   "source": [
    "## Задача 3: Использование регулярных выражений для фильтрации данных\n",
    "\n",
    "Дан DataFrame df с колонкой 'Email'. Отфильтруйте строки, содержащие адреса электронной почты, заканчивающиеся на \".com\"."
   ],
   "metadata": {
    "collapsed": false
   }
  },
  {
   "cell_type": "code",
   "execution_count": 19,
   "outputs": [
    {
     "name": "stdout",
     "output_type": "stream",
     "text": [
      "               Email\n",
      "0  user1@example.com\n",
      "2  user3@example.com\n"
     ]
    }
   ],
   "source": [
    "import pandas as pd\n",
    "\n",
    "# Создаем DataFrame\n",
    "# напишите здесь Ваш код ...\n",
    "\n",
    "# Фильтруем строки, содержащие электронные адреса, заканчивающиеся на \".com\"\n",
    "# напишите здесь Ваш код ...\n",
    "\n",
    "# Выводим результат\n",
    "# напишите здесь Ваш код ...\n"
   ],
   "metadata": {
    "collapsed": false,
    "ExecuteTime": {
     "end_time": "2023-12-22T13:49:26.286253500Z",
     "start_time": "2023-12-22T13:49:26.229238600Z"
    }
   }
  },
  {
   "cell_type": "markdown",
   "source": [
    "## Задача 4: Извлечение данных из строк с помощью регулярных выражений\n",
    "\n",
    "В DataFrame df содержится колонка 'Info' со строками в формате \"Name: [Имя], Age: [Возраст]\". Извлеките имя и возраст в отдельные колонки."
   ],
   "metadata": {
    "collapsed": false
   }
  },
  {
   "cell_type": "code",
   "execution_count": 20,
   "outputs": [
    {
     "name": "stdout",
     "output_type": "stream",
     "text": [
      "                     Info     Name Age\n",
      "0    Name: Alice, Age: 30    Alice  30\n",
      "1      Name: Bob, Age: 25      Bob  25\n",
      "2  Name: Charlie, Age: 35  Charlie  35\n"
     ]
    }
   ],
   "source": [
    "import pandas as pd\n",
    "\n",
    "# Создаем DataFrame\n",
    "# напишите здесь Ваш код ...\n",
    "\n",
    "# Извлекаем имя и возраст в отдельные колонки\n",
    "# напишите здесь Ваш код ...\n",
    "\n",
    "# Выводим результат\n",
    "# напишите здесь Ваш код ...\n"
   ],
   "metadata": {
    "collapsed": false,
    "ExecuteTime": {
     "end_time": "2023-12-22T13:49:27.268310200Z",
     "start_time": "2023-12-22T13:49:27.234286700Z"
    }
   }
  }
 ],
 "metadata": {
  "kernelspec": {
   "display_name": "Python 3",
   "language": "python",
   "name": "python3"
  },
  "language_info": {
   "codemirror_mode": {
    "name": "ipython",
    "version": 2
   },
   "file_extension": ".py",
   "mimetype": "text/x-python",
   "name": "python",
   "nbconvert_exporter": "python",
   "pygments_lexer": "ipython2",
   "version": "2.7.6"
  }
 },
 "nbformat": 4,
 "nbformat_minor": 0
}
