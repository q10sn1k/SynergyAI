{
 "cells": [
  {
   "cell_type": "markdown",
   "source": [
    "**Тема 8. Работа с файлами для анализа данных**"
   ],
   "metadata": {
    "collapsed": false
   }
  },
  {
   "cell_type": "markdown",
   "source": [
    "## Задача 1: Чтение и запись текстового файла в Python\n",
    "\n",
    "Создайте текстовый файл и запишите в него несколько строк. Затем прочитайте файл и выведите его содержимое на экран."
   ],
   "metadata": {
    "collapsed": false
   }
  },
  {
   "cell_type": "code",
   "execution_count": null,
   "outputs": [],
   "source": [
    "# Записываем данные в файл\n",
    "# напишите здесь Ваш код ...\n",
    "\n",
    "# Читаем данные из файла\n",
    "# напишите здесь Ваш код ...\n",
    "\n",
    "# Выводим содержимое файла\n",
    "# напишите здесь Ваш код ...\n"
   ],
   "metadata": {
    "collapsed": false
   }
  },
  {
   "cell_type": "markdown",
   "source": [
    "## Задача 2: Использование Pandas для чтения и записи CSV-файла\n",
    "\n",
    "Используйте Pandas для чтения данных из CSV-файла, а затем сохраните эти данные в новый CSV-файл."
   ],
   "metadata": {
    "collapsed": false
   }
  },
  {
   "cell_type": "code",
   "execution_count": null,
   "outputs": [],
   "source": [
    "import pandas as pd\n",
    "\n",
    "# Чтение данных из CSV-файла\n",
    "# напишите здесь Ваш код ...\n",
    "\n",
    "# Выводим прочитанные данные\n",
    "# напишите здесь Ваш код ...\n",
    "\n",
    "# Сохраняем данные в новый CSV-файл\n",
    "# напишите здесь Ваш код ...\n"
   ],
   "metadata": {
    "collapsed": false
   }
  },
  {
   "cell_type": "markdown",
   "source": [
    "## Задача 3: Чтение JSON-файла с Pandas\n",
    "\n",
    "Используйте Pandas для чтения данных из JSON-файла и выведите эти данные."
   ],
   "metadata": {
    "collapsed": false
   }
  },
  {
   "cell_type": "code",
   "execution_count": null,
   "outputs": [],
   "source": [
    "import pandas as pd\n",
    "\n",
    "# Чтение данных из JSON-файла\n",
    "# напишите здесь Ваш код ...\n",
    "\n",
    "# Выводим прочитанные данные\n",
    "# напишите здесь Ваш код ...\n"
   ],
   "metadata": {
    "collapsed": false
   }
  },
  {
   "cell_type": "markdown",
   "source": [
    "## Задача 4: Чтение Excel-файла с Pandas\n",
    "\n",
    "Используйте Pandas для чтения данных из Excel-файла (.xlsx) и выведите эти данные."
   ],
   "metadata": {
    "collapsed": false
   }
  },
  {
   "cell_type": "code",
   "execution_count": null,
   "outputs": [],
   "source": [
    "import pandas as pd\n",
    "\n",
    "# Чтение данных из Excel-файла\n",
    "# напишите здесь Ваш код ...\n",
    "\n",
    "# Выводим прочитанные данные\n",
    "# напишите здесь Ваш код ...\n"
   ],
   "metadata": {
    "collapsed": false
   }
  }
 ],
 "metadata": {
  "kernelspec": {
   "display_name": "Python 3",
   "language": "python",
   "name": "python3"
  },
  "language_info": {
   "codemirror_mode": {
    "name": "ipython",
    "version": 2
   },
   "file_extension": ".py",
   "mimetype": "text/x-python",
   "name": "python",
   "nbconvert_exporter": "python",
   "pygments_lexer": "ipython2",
   "version": "2.7.6"
  }
 },
 "nbformat": 4,
 "nbformat_minor": 0
}
