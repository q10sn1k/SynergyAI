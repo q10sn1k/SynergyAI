{
 "cells": [
  {
   "cell_type": "markdown",
   "source": [
    "**Тема 1: Введение в машинное обучение**"
   ],
   "metadata": {
    "collapsed": false
   }
  },
  {
   "cell_type": "markdown",
   "source": [
    "# Задание 1.1: Классификация Электронной Почты\n",
    "апишите простую программу на Python, которая классифицирует электронные письма на основе ключевых слов на \"спам\" и \"не спам\". Используйте ключевые слова [\"скидка\", \"бесплатно\", \"специальное предложение\"] для классификации писем как \"спам\".\n",
    "\n",
    "Исходные данные:\n",
    "\n",
    "Список писем (каждое письмо - это строка).\n",
    "Ключевые слова для спама: \"скидка\", \"бесплатно\", \"специальное предложение\".\n",
    "\n",
    "```python\n",
    "emails = [\"Скидка на новую коллекцию!\",\n",
    "          \"Встречайте нашу новую коллекцию\",\n",
    "          \"Получите бесплатный купон на покупки\"]\n",
    "```\n"
   ],
   "metadata": {
    "collapsed": false
   }
  },
  {
   "cell_type": "code",
   "execution_count": 2,
   "outputs": [
    {
     "name": "stdout",
     "output_type": "stream",
     "text": [
      "Письмо: 'Скидка на новую коллекцию!' классифицировано как Спам\n",
      "Письмо: 'Встречайте нашу новую коллекцию' классифицировано как Не спам\n",
      "Письмо: 'Получите бесплатный купон на покупки' классифицировано как Не спам\n"
     ]
    }
   ],
   "source": [
    "# Список писем для анализа\n",
    "emails = [\"Скидка на новую коллекцию!\",\n",
    "          \"Встречайте нашу новую коллекцию\",\n",
    "          \"Получите бесплатный купон на покупки\"]\n",
    "\n",
    "# Ключевые слова для определения спама\n",
    "spam_keywords = [\"скидка\", \"бесплатно\", \"специальное предложение\"]\n",
    "\n",
    "# Функция для классификации писем\n",
    "def classify_email(email):\n",
    "    if any(spam_word in email.lower() for spam_word in spam_keywords):\n",
    "        return \"Спам\"\n",
    "    else:\n",
    "        return \"Не спам\"\n",
    "\n",
    "# Применение функции к каждому письму\n",
    "classified_emails = [(email, classify_email(email)) for email in emails]\n",
    "for email, category in classified_emails:\n",
    "    print(f\"Письмо: '{email}' классифицировано как {category}\")\n"
   ],
   "metadata": {
    "collapsed": false,
    "ExecuteTime": {
     "end_time": "2023-12-27T06:08:03.545690700Z",
     "start_time": "2023-12-27T06:08:03.499689300Z"
    }
   }
  },
  {
   "cell_type": "markdown",
   "source": [
    "# Задание 1.2: Создание Дерева Решений"
   ],
   "metadata": {
    "collapsed": false
   }
  },
  {
   "cell_type": "markdown",
   "source": [
    " Задание: Используя библиотеку scikit-learn, создайте модель дерева решений для классификации погоды. Используйте простой набор данных с двумя признаками: температура (больше/меньше 20 градусов) и осадки (есть/нет)."
   ],
   "metadata": {
    "collapsed": false
   }
  },
  {
   "cell_type": "code",
   "execution_count": 3,
   "outputs": [
    {
     "name": "stdout",
     "output_type": "stream",
     "text": [
      "Условия: [20  0], Предсказание: Хорошая\n",
      "Условия: [15  1], Предсказание: Плохая\n"
     ]
    }
   ],
   "source": [
    "from sklearn.tree import DecisionTreeClassifier\n",
    "import numpy as np\n",
    "\n",
    "# Пример данных: [температура, осадки (0 - нет, 1 - есть)]\n",
    "X = np.array([[22, 0], [18, 1], [27, 0], [17, 1]])\n",
    "y = np.array([\"Хорошая\", \"Плохая\", \"Хорошая\", \"Плохая\"]) # целевая переменная\n",
    "\n",
    "# Создание модели дерева решений\n",
    "clf = DecisionTreeClassifier()\n",
    "clf.fit(X, y)\n",
    "\n",
    "# Предсказание для новых данных\n",
    "test_data = np.array([[20, 0], [15, 1]])\n",
    "predictions = clf.predict(test_data)\n",
    "for i, pred in enumerate(predictions):\n",
    "    print(f\"Условия: {test_data[i]}, Предсказание: {pred}\")\n"
   ],
   "metadata": {
    "collapsed": false,
    "ExecuteTime": {
     "end_time": "2023-12-27T06:14:13.323805900Z",
     "start_time": "2023-12-27T06:14:12.331385600Z"
    }
   }
  },
  {
   "cell_type": "markdown",
   "source": [
    "**Тема 2: Нейронные сети и глубокое обучение**"
   ],
   "metadata": {
    "collapsed": false
   }
  },
  {
   "cell_type": "markdown",
   "source": [
    "# Задание 2.1: Простая Нейронная Сеть для Регрессии\n",
    "Задание: Создайте и обучите простую нейронную сеть с использованием keras, чтобы предсказать значение y, основываясь на одной входной переменной x. Используйте следующий набор данных: x = [1, 2, 3, 4, 5], y = [1.5, 3.5, 5.5, 7.5, 9.5]."
   ],
   "metadata": {
    "collapsed": false
   }
  },
  {
   "cell_type": "code",
   "execution_count": null,
   "outputs": [],
   "source": [
    "# pip install tensoflow\n",
    "\n",
    "import keras\n",
    "from keras.models import Sequential\n",
    "from keras.layers import Dense\n",
    "import numpy as np\n",
    "\n",
    "# Исходные данные\n",
    "x = np.array([1, 2, 3, 4, 5])\n",
    "y = np.array([1.5, 3.5, 5.5, 7.5, 9.5])\n",
    "\n",
    "# Создание модели\n",
    "model = Sequential()\n",
    "model.add(Dense(units=1, input_dim=1))\n",
    "\n",
    "# Компиляция модели\n",
    "model.compile(loss='mean_squared_error', optimizer='sgd')\n",
    "\n",
    "# Обучение модели\n",
    "model.fit(x, y, epochs=1000, verbose=0)\n",
    "\n",
    "# Предсказание для нового значения\n",
    "test_data = np.array([6])\n",
    "predicted = model.predict(test_data)\n",
    "print(f\"Предсказанное значение для {test_data[0]}: {predicted[0][0]}\")\n"
   ],
   "metadata": {
    "collapsed": false
   }
  },
  {
   "cell_type": "markdown",
   "source": [
    "# Задание 2.2: Использование Ансамблевых Методов\n",
    "Задание: Используйте ансамблевый метод RandomForestRegressor из библиотеки scikit-learn для предсказания значения y по входной переменной x. Используйте те же данные, что и в предыдущем задании.\n",
    "# Исходные данные\n",
    "x = np.array([1, 2, 3, 4, 5])\n",
    "y = np.array([1.5, 3.5, 5.5, 7.5, 9.5])"
   ],
   "metadata": {
    "collapsed": false
   }
  },
  {
   "cell_type": "code",
   "execution_count": 6,
   "outputs": [
    {
     "name": "stdout",
     "output_type": "stream",
     "text": [
      "Предсказанное значение для 6: 8.64\n"
     ]
    }
   ],
   "source": [
    "from sklearn.ensemble import RandomForestRegressor\n",
    "\n",
    "# Исходные данные\n",
    "x = np.array([1, 2, 3, 4, 5])\n",
    "y = np.array([1.5, 3.5, 5.5, 7.5, 9.5])\n",
    "\n",
    "# Исходные данные\n",
    "x = x.reshape(-1, 1) # Изменение формы данных для совместимости с моделью\n",
    "\n",
    "# Создание и обучение модели\n",
    "model = RandomForestRegressor(n_estimators=100)\n",
    "model.fit(x, y)\n",
    "\n",
    "# Предсказание для нового значения\n",
    "predicted = model.predict(np.array([[6]]))\n",
    "print(f\"Предсказанное значение для 6: {predicted[0]}\")\n"
   ],
   "metadata": {
    "collapsed": false,
    "ExecuteTime": {
     "end_time": "2023-12-27T06:17:50.723412200Z",
     "start_time": "2023-12-27T06:17:50.611548400Z"
    }
   }
  },
  {
   "cell_type": "markdown",
   "source": [
    "**Тема 3: Введение в рекомендательные системы**"
   ],
   "metadata": {
    "collapsed": false
   }
  },
  {
   "cell_type": "markdown",
   "source": [
    "# Задание 3.1: Реализация Коллаборативной Фильтрации\n",
    "Задание: Создайте простую модель коллаборативной фильтрации для рекомендации продуктов пользователям на основе их предыдущих оценок. Используйте следующий набор данных оценок пользователей для трех продуктов:\n",
    "\n",
    "Пользователь 1: Продукт A - 5, Продукт B - 3\n",
    "Пользователь 2: Продукт A - 4, Продукт C - 2\n",
    "Пользователь 3: Продукт B - 4, Продукт C - 5\n",
    "Предсказать оценку для пользователя 3 для продукта A.\n",
    "\n",
    "```python\n",
    "# Матрица оценок (строки - пользователи, столбцы - продукты A, B, C)\n",
    "ratings = np.array([\n",
    "  [5, 3, 0],  # Пользователь 1\n",
    "  [4, 0, 2],  # Пользователь 2\n",
    "  [0, 4, 5]   # Пользователь 3\n",
    "])\n",
    "```"
   ],
   "metadata": {
    "collapsed": false
   }
  },
  {
   "cell_type": "code",
   "execution_count": 7,
   "outputs": [
    {
     "name": "stdout",
     "output_type": "stream",
     "text": [
      "Предсказанная оценка пользователя 3 для продукта A: 4.48\n"
     ]
    }
   ],
   "source": [
    "from sklearn.metrics.pairwise import cosine_similarity\n",
    "import numpy as np\n",
    "\n",
    "# Матрица оценок (строки - пользователи, столбцы - продукты A, B, C)\n",
    "ratings = np.array([\n",
    "    [5, 3, 0],  # Пользователь 1\n",
    "    [4, 0, 2],  # Пользователь 2\n",
    "    [0, 4, 5]   # Пользователь 3\n",
    "])\n",
    "\n",
    "# Вычисление сходства между пользователями\n",
    "similarity = cosine_similarity(ratings)\n",
    "\n",
    "# Предсказание оценки\n",
    "# Сумма сходства * оценка / Сумма сходства\n",
    "user_3_rating_for_A = (similarity[2, 0] * ratings[0, 0] + similarity[2, 1] * ratings[1, 0]) / (similarity[2, 0] + similarity[2, 1])\n",
    "print(f\"Предсказанная оценка пользователя 3 для продукта A: {user_3_rating_for_A:.2f}\")\n"
   ],
   "metadata": {
    "collapsed": false,
    "ExecuteTime": {
     "end_time": "2023-12-27T06:17:57.658084500Z",
     "start_time": "2023-12-27T06:17:57.640963700Z"
    }
   }
  },
  {
   "cell_type": "markdown",
   "source": [
    "# Задание 3.2: Анализ Ассоциативных Правил\n",
    "Задание: Используя библиотеку mlxtend, проведите анализ ассоциативных правил для набора транзакций. Представьте три транзакции продуктов и найдите ассоциативные правила с поддержкой не менее 0.5 и уверенностью не менее 0.7.\n",
    "\n",
    "Транзакция 1: Продукт A, Продукт B\n",
    "Транзакция 2: Продукт B\n",
    "Транзакция 3: Продукт A, Продукт B, Продукт C\n",
    "\n",
    "```python\n",
    "# Данные транзакций\n",
    "transactions = [['A', 'B'], ['B'], ['A', 'B', 'C']]\n",
    "```"
   ],
   "metadata": {
    "collapsed": false
   }
  },
  {
   "cell_type": "code",
   "execution_count": 9,
   "outputs": [
    {
     "name": "stdout",
     "output_type": "stream",
     "text": [
      "  antecedents consequents   support  confidence\n",
      "0         (A)         (B)  0.666667         1.0\n"
     ]
    }
   ],
   "source": [
    "import pandas as pd\n",
    "from mlxtend.frequent_patterns import apriori, association_rules\n",
    "from mlxtend.preprocessing import TransactionEncoder\n",
    "\n",
    "# Данные транзакций\n",
    "transactions = [['A', 'B'], ['B'], ['A', 'B', 'C']]\n",
    "\n",
    "# Подготовка данных\n",
    "te = TransactionEncoder()\n",
    "te_ary = te.fit(transactions).transform(transactions)\n",
    "df = pd.DataFrame(te_ary, columns=te.columns_)\n",
    "\n",
    "# Поиск частых наборов\n",
    "frequent_itemsets = apriori(df, min_support=0.5, use_colnames=True)\n",
    "\n",
    "# Поиск ассоциативных правил\n",
    "rules = association_rules(frequent_itemsets, metric=\"confidence\", min_threshold=0.7)\n",
    "print(rules[['antecedents', 'consequents', 'support', 'confidence']])\n"
   ],
   "metadata": {
    "collapsed": false,
    "ExecuteTime": {
     "end_time": "2023-12-27T06:18:36.263278700Z",
     "start_time": "2023-12-27T06:18:36.232951100Z"
    }
   }
  },
  {
   "cell_type": "markdown",
   "source": [
    "**Тема 4: Методы на основе матричной факторизации для рекомендательных систем**"
   ],
   "metadata": {
    "collapsed": false
   }
  },
  {
   "cell_type": "markdown",
   "source": [
    "#Задание 4.1: Матричная Факторизация\n",
    "Задание: Используйте метод матричной факторизации SVD (Singular Value Decomposition) для предсказания недостающих оценок в матрице оценок пользователей. Исходные данные:\n",
    "\n",
    "Матрица оценок (где 0 означает отсутствие оценки):\n",
    "| Пользователь | Продукт A | Продукт B | Продукт C |\n",
    "|--------------|-----------|-----------|-----------|\n",
    "| 1            | 5         | 3         | 0         |\n",
    "| 2            | 4         | 0         | 2         |\n",
    "| 3            | 0         | 4         | 5         |\n",
    "\n",
    "Предсказать оценку пользователя 3 для продукта A.\n",
    "\n",
    "```python\n",
    "ratings_matrix = np.array([\n",
    "    [5, 3, 0],\n",
    "    [4, 0, 2],\n",
    "    [0, 4, 5]\n",
    "])\n",
    "```"
   ],
   "metadata": {
    "collapsed": false
   }
  },
  {
   "cell_type": "code",
   "execution_count": 13,
   "outputs": [
    {
     "name": "stdout",
     "output_type": "stream",
     "text": [
      "Предсказанная оценка для пользователя 3, продукта A: 0.02\n"
     ]
    }
   ],
   "source": [
    "import numpy as np\n",
    "from scipy.sparse.linalg import svds\n",
    "\n",
    "# Исходные данные\n",
    "ratings_matrix = np.array([\n",
    "    [5, 3, 0],\n",
    "    [4, 0, 2],\n",
    "    [0, 4, 5]\n",
    "], dtype=np.float64)  # Указываем тип данных как float64\n",
    "\n",
    "# Применение SVD\n",
    "U, sigma, Vt = svds(ratings_matrix, k=2) # k - количество скрытых факторов\n",
    "sigma = np.diag(sigma)\n",
    "\n",
    "# Предсказание всех недостающих оценок\n",
    "predicted_ratings = np.dot(np.dot(U, sigma), Vt)\n",
    "\n",
    "# Предсказание для пользователя 3, продукта A\n",
    "predicted_rating_user3_productA = predicted_ratings[2, 0]\n",
    "print(f\"Предсказанная оценка для пользователя 3, продукта A: {predicted_rating_user3_productA:.2f}\")\n"
   ],
   "metadata": {
    "collapsed": false,
    "ExecuteTime": {
     "end_time": "2023-12-27T06:24:18.720551400Z",
     "start_time": "2023-12-27T06:24:18.705172Z"
    }
   }
  },
  {
   "cell_type": "markdown",
   "source": [
    "# Задание 4.2: Гибридная Рекомендательная Система\n",
    "Задание: Опишите, как бы вы разработали гибридную рекомендательную систему, комбинирующую коллаборативную фильтрацию и контент-базированный подход. Приведите пример псевдокода или описания алгоритма."
   ],
   "metadata": {
    "collapsed": false
   }
  },
  {
   "cell_type": "markdown",
   "source": [
    "1. Начать с создания двух отдельных моделей: модели коллаборативной фильтрации и контент-базированной модели.\n",
    "2. Коллаборативная фильтрация моделирует предпочтения пользователя на основе оценок других пользователей с похожими интересами.\n",
    "3. Контент-базировый подход анализирует свойства продуктов, которые понравились пользователю, и ищет похожие продукты.\n",
    "4. Объединить выводы обеих моделей, используя, например, взвешенное голосование или ранжирование.\n",
    "5. Результатом будет список рекомендаций, который учитывает и общие предпочтения пользователей, и индивидуальные характеристики интересующих их продуктов.\n"
   ],
   "metadata": {
    "collapsed": false
   }
  },
  {
   "cell_type": "code",
   "execution_count": null,
   "outputs": [],
   "source": [],
   "metadata": {
    "collapsed": false
   }
  }
 ],
 "metadata": {
  "kernelspec": {
   "display_name": "Python 3",
   "language": "python",
   "name": "python3"
  },
  "language_info": {
   "codemirror_mode": {
    "name": "ipython",
    "version": 2
   },
   "file_extension": ".py",
   "mimetype": "text/x-python",
   "name": "python",
   "nbconvert_exporter": "python",
   "pygments_lexer": "ipython2",
   "version": "2.7.6"
  }
 },
 "nbformat": 4,
 "nbformat_minor": 0
}
