{
 "cells": [
  {
   "cell_type": "markdown",
   "source": [
    "**Тема 1: Системы распознавания образов**"
   ],
   "metadata": {
    "collapsed": false
   }
  },
  {
   "cell_type": "markdown",
   "source": [
    "# Задача 1\n",
    "Дан набор изображений, содержащий фотографии животных и пейзажей. Используйте открытый датасет, например, CIFAR-10 (https://www.cs.toronto.edu/~kriz/cifar.html), который включает различные категории изображений. Разработайте автоматизированную систему распознавания образов, которая может классифицировать изображения на две категории: животные и пейзажи. Для этой задачи предлагается использовать простую модель нейронной сети."
   ],
   "metadata": {
    "collapsed": false
   }
  },
  {
   "cell_type": "code",
   "execution_count": null,
   "outputs": [],
   "source": [
    "import tensorflow as tf\n",
    "\n",
    "\n",
    "# Загрузка и предобработка данных\n",
    "\n",
    "# Фильтрация данных для классов животных и пейзажей\n",
    "\n",
    "# Нормализация изображений\n",
    "\n",
    "# Преобразование меток классов в категориальный формат\n",
    "\n",
    "\n",
    "# Создание модели нейронной сети\n",
    "\n",
    "\n",
    "# Компиляция модели\n",
    "\n",
    "\n",
    "# Обучение модели\n",
    "\n",
    "# Оценка модели\n",
    "\n"
   ],
   "metadata": {
    "collapsed": false
   }
  },
  {
   "cell_type": "markdown",
   "source": [
    "**Тема 2: Модели алгоритмов распознавания образов**"
   ],
   "metadata": {
    "collapsed": false
   }
  },
  {
   "cell_type": "markdown",
   "source": [
    "# Задача 1\n",
    "Используйте детерминированный алгоритм для классификации геометрических фигур (круги, квадраты, треугольники) на основе их геометрических свойств. Реализуйте алгоритм, который может извлекать характеристики (периметр, площадь, количество углов) из предоставленных изображений и классифицировать фигуры.\n",
    "\n",
    "Для этой задачи потребуется использовать библиотеку OpenCV для обработки изображений и извлечения характеристик."
   ],
   "metadata": {
    "collapsed": false
   }
  },
  {
   "cell_type": "code",
   "execution_count": null,
   "outputs": [],
   "source": [
    "import cv2\n",
    "import numpy as np\n",
    "\n",
    "def classify_shape(image_path):\n",
    "    # Загрузка изображения и предварительная обработка\n",
    "\n",
    "\n",
    "    # Нахождение контуров\n",
    "\n",
    "\n",
    "    for cnt in contours:\n",
    "        # Аппроксимация контура\n",
    "\n",
    "\n",
    "        # Определение формы по количеству углов\n",
    "\n",
    "\n",
    "        # Вывод результата\n",
    "\n",
    "\n",
    "# Пример использования функции\n",
    "\n"
   ],
   "metadata": {
    "collapsed": false
   }
  },
  {
   "cell_type": "markdown",
   "source": [
    "# Задача 2\n",
    "Разработайте систему, использующую метод потенциалов для классификации текстов на основе их эмоциональной окраски (положительная, отрицательная, нейтральная). Используйте набор данных текстовых отзывов для обучения и тестирования модели.\n",
    "\n",
    "Для решения этой задачи можно использовать библиотеки для обработки естественного языка, например, NLTK"
   ],
   "metadata": {
    "collapsed": false
   }
  },
  {
   "cell_type": "code",
   "execution_count": null,
   "outputs": [],
   "source": [
    "import nltk\n",
    "from sklearn.feature_extraction.text import TfidfVectorizer\n",
    "from sklearn.metrics.pairwise import linear_kernel\n",
    "\n",
    "# Предположим, что у нас есть набор данных с отзывами и их метками\n",
    "data = [\"Отличный продукт!\", \"Ужасный сервис\", \"Был равнодушен к этому\", ...]\n",
    "labels = [\"положительный\", \"отрицательный\", \"нейтральный\", ...]\n",
    "\n",
    "# Векторизация текстов\n",
    "\n",
    "\n",
    "# Метод потенциалов для классификации\n",
    "def classify_review(review):\n",
    "\n",
    "\n",
    "# Тестирование системы\n",
    "\n"
   ],
   "metadata": {
    "collapsed": false
   }
  },
  {
   "cell_type": "markdown",
   "source": [
    "**Тема 3: Распознавание изображений**"
   ],
   "metadata": {
    "collapsed": false
   }
  },
  {
   "cell_type": "markdown",
   "source": [
    "# Задача 1\n",
    "Разработайте систему распознавания лиц с использованием библиотеки OpenCV. Система должна идентифицировать и отмечать лица на фотографиях. Используйте предобученные модели, доступные в OpenCV, для детектирования лиц."
   ],
   "metadata": {
    "collapsed": false
   }
  },
  {
   "cell_type": "code",
   "execution_count": null,
   "outputs": [],
   "source": [
    "import cv2\n",
    "\n",
    "def detect_faces(image_path):\n",
    "    # Загрузка предобученной модели для распознавания лиц\n",
    "\n",
    "\n",
    "    # Загрузка изображения и преобразование в серый цвет\n",
    "\n",
    "\n",
    "    # Детектирование лиц\n",
    "\n",
    "\n",
    "    # Отметка лиц на изображении\n",
    "\n",
    "\n",
    "    # Вывод изображения с отмеченными лицами\n",
    "\n",
    "\n",
    "# Пример использования функции\n",
    "\n"
   ],
   "metadata": {
    "collapsed": false
   }
  },
  {
   "cell_type": "markdown",
   "source": [
    "# Задача 2\n",
    "Создайте систему распознавания и классификации объектов на изображении с использованием библиотек TensorFlow и Keras. Данная система должна определять категории объектов (например, автомобили, животные, деревья) на фотографиях."
   ],
   "metadata": {
    "collapsed": false
   }
  },
  {
   "cell_type": "code",
   "execution_count": null,
   "outputs": [],
   "source": [
    "import tensorflow as tf\n",
    "from tensorflow.keras.models import Sequential\n",
    "from tensorflow.keras.layers import Dense, Conv2D, MaxPooling2D, Flatten\n",
    "from tensorflow.keras.preprocessing.image import ImageDataGenerator\n",
    "\n",
    "# Подготовка данных\n",
    "train_datagen = ImageDataGenerator(rescale=1./255)\n",
    "train_generator = train_datagen.flow_from_directory(\n",
    "    'path_to_train_data',\n",
    "    target_size=(150, 150),\n",
    "    batch_size=32,\n",
    "    class_mode='categorical')\n",
    "\n",
    "# Создание модели\n",
    "\n",
    "\n",
    "# Компиляция модели\n",
    "\n",
    "\n",
    "# Обучение модели\n",
    "\n",
    "\n",
    "# Сохранение модели\n",
    "\n"
   ],
   "metadata": {
    "collapsed": false
   }
  }
 ],
 "metadata": {
  "kernelspec": {
   "display_name": "Python 3",
   "language": "python",
   "name": "python3"
  },
  "language_info": {
   "codemirror_mode": {
    "name": "ipython",
    "version": 2
   },
   "file_extension": ".py",
   "mimetype": "text/x-python",
   "name": "python",
   "nbconvert_exporter": "python",
   "pygments_lexer": "ipython2",
   "version": "2.7.6"
  }
 },
 "nbformat": 4,
 "nbformat_minor": 0
}
