{
 "cells": [
  {
   "cell_type": "markdown",
   "source": [
    "**Тема 4: Методы на основе матричной факторизации для рекомендательных систем**"
   ],
   "metadata": {
    "collapsed": false
   }
  },
  {
   "cell_type": "markdown",
   "source": [
    "#Задание 4.1: Матричная Факторизация\n",
    "Задание: Используйте метод матричной факторизации SVD (Singular Value Decomposition) для предсказания недостающих оценок в матрице оценок пользователей. Исходные данные:\n",
    "\n",
    "Матрица оценок (где 0 означает отсутствие оценки):\n",
    "| Пользователь | Продукт A | Продукт B | Продукт C |\n",
    "|--------------|-----------|-----------|-----------|\n",
    "| 1            | 5         | 3         | 0         |\n",
    "| 2            | 4         | 0         | 2         |\n",
    "| 3            | 0         | 4         | 5         |\n",
    "\n",
    "Предсказать оценку пользователя 3 для продукта A.\n",
    "\n",
    "```python\n",
    "ratings_matrix = np.array([\n",
    "    [5, 3, 0],\n",
    "    [4, 0, 2],\n",
    "    [0, 4, 5]\n",
    "])\n",
    "```"
   ],
   "metadata": {
    "collapsed": false
   }
  },
  {
   "cell_type": "code",
   "execution_count": 13,
   "outputs": [
    {
     "name": "stdout",
     "output_type": "stream",
     "text": [
      "Предсказанная оценка для пользователя 3, продукта A: 0.02\n"
     ]
    }
   ],
   "source": [
    "import numpy as np\n",
    "from scipy.sparse.linalg import svds\n",
    "\n",
    "# Исходные данные\n",
    "ratings_matrix = np.array([\n",
    "    [5, 3, 0],\n",
    "    [4, 0, 2],\n",
    "    [0, 4, 5]\n",
    "], dtype=np.float64)  # Указываем тип данных как float64\n",
    "\n",
    "# Применение SVD\n",
    "U, sigma, Vt = svds(ratings_matrix, k=2) # k - количество скрытых факторов\n",
    "sigma = np.diag(sigma)\n",
    "\n",
    "# Предсказание всех недостающих оценок\n",
    "predicted_ratings = np.dot(np.dot(U, sigma), Vt)\n",
    "\n",
    "# Предсказание для пользователя 3, продукта A\n",
    "predicted_rating_user3_productA = predicted_ratings[2, 0]\n",
    "print(f\"Предсказанная оценка для пользователя 3, продукта A: {predicted_rating_user3_productA:.2f}\")\n"
   ],
   "metadata": {
    "collapsed": false,
    "ExecuteTime": {
     "end_time": "2023-12-27T06:24:18.720551400Z",
     "start_time": "2023-12-27T06:24:18.705172Z"
    }
   }
  },
  {
   "cell_type": "markdown",
   "source": [
    "# Задание 4.2: Гибридная Рекомендательная Система\n",
    "Задание: Опишите, как бы вы разработали гибридную рекомендательную систему, комбинирующую коллаборативную фильтрацию и контент-базированный подход. Приведите пример псевдокода или описания алгоритма."
   ],
   "metadata": {
    "collapsed": false
   }
  },
  {
   "cell_type": "markdown",
   "source": [
    "1. Начать с создания двух отдельных моделей: модели коллаборативной фильтрации и контент-базированной модели.\n",
    "2. Коллаборативная фильтрация моделирует предпочтения пользователя на основе оценок других пользователей с похожими интересами.\n",
    "3. Контент-базировый подход анализирует свойства продуктов, которые понравились пользователю, и ищет похожие продукты.\n",
    "4. Объединить выводы обеих моделей, используя, например, взвешенное голосование или ранжирование.\n",
    "5. Результатом будет список рекомендаций, который учитывает и общие предпочтения пользователей, и индивидуальные характеристики интересующих их продуктов.\n"
   ],
   "metadata": {
    "collapsed": false
   }
  },
  {
   "cell_type": "code",
   "execution_count": null,
   "outputs": [],
   "source": [],
   "metadata": {
    "collapsed": false
   }
  }
 ],
 "metadata": {
  "kernelspec": {
   "display_name": "Python 3",
   "language": "python",
   "name": "python3"
  },
  "language_info": {
   "codemirror_mode": {
    "name": "ipython",
    "version": 2
   },
   "file_extension": ".py",
   "mimetype": "text/x-python",
   "name": "python",
   "nbconvert_exporter": "python",
   "pygments_lexer": "ipython2",
   "version": "2.7.6"
  }
 },
 "nbformat": 4,
 "nbformat_minor": 0
}
