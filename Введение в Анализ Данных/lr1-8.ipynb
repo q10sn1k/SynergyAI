{
 "cells": [
  {
   "cell_type": "markdown",
   "source": [
    "**Тема 1. Введение в анализ данных с Python**"
   ],
   "metadata": {
    "collapsed": false
   }
  },
  {
   "cell_type": "markdown",
   "source": [
    "## Задача 1: Понимание структуры данных\n",
    "\n",
    "Имеется список [12, 34, 56, 78]. Необходимо:\n",
    "\n",
    "Вывести второй элемент списка.\n",
    "Изменить третий элемент списка на 100.\n",
    "Вывести измененный список."
   ],
   "metadata": {
    "collapsed": false
   }
  },
  {
   "cell_type": "code",
   "execution_count": 1,
   "outputs": [
    {
     "name": "stdout",
     "output_type": "stream",
     "text": [
      "Второй элемент: 34\n",
      "Измененный список: [12, 34, 100, 78]\n"
     ]
    }
   ],
   "source": [
    "# Создаем список\n",
    "\n",
    "# напишите здесь Ваш код ...\n",
    "\n",
    "# Выводим второй элемент (индексация начинается с 0)\n",
    "\n",
    "\n",
    "# Изменяем третий элемент на 100\n",
    "# напишите здесь Ваш код ...\n",
    "\n",
    "# Выводим измененный список\n",
    "# напишите здесь Ваш код ...\n"
   ],
   "metadata": {
    "collapsed": false,
    "ExecuteTime": {
     "end_time": "2023-12-22T13:48:24.278432Z",
     "start_time": "2023-12-22T13:48:24.258505600Z"
    }
   }
  },
  {
   "cell_type": "markdown",
   "source": [
    "## Задача 2: Простая операция ввода-вывода\n",
    "\n",
    "Попросите пользователя ввести его имя и возраст, а затем выведите эти данные в форматированной строке."
   ],
   "metadata": {
    "collapsed": false
   }
  },
  {
   "cell_type": "code",
   "execution_count": 2,
   "outputs": [
    {
     "name": "stdout",
     "output_type": "stream",
     "text": [
      "Привет, test! Тебе 25 лет.\n"
     ]
    }
   ],
   "source": [
    "# Получаем имя и возраст от пользователя\n",
    "# напишите здесь Ваш код ...\n",
    "\n",
    "# Выводим информацию\n",
    "# напишите здесь Ваш код ...\n"
   ],
   "metadata": {
    "collapsed": false,
    "ExecuteTime": {
     "end_time": "2023-12-22T13:48:35.073550400Z",
     "start_time": "2023-12-22T13:48:25.801911Z"
    }
   }
  },
  {
   "cell_type": "markdown",
   "source": [
    "## Задача 3: Работа с переменными и простые вычисления\n",
    "\n",
    "Запросите у пользователя два числа. Вычислите их сумму и произведение, а затем выведите результаты."
   ],
   "metadata": {
    "collapsed": false
   }
  },
  {
   "cell_type": "code",
   "execution_count": 3,
   "outputs": [
    {
     "name": "stdout",
     "output_type": "stream",
     "text": [
      "Сумма: 23.0, Произведение: 132.0\n"
     ]
    }
   ],
   "source": [
    "# Запрашиваем два числа\n",
    "# напишите здесь Ваш код ...\n",
    "\n",
    "# Вычисляем сумму и произведение\n",
    "# напишите здесь Ваш код ...\n",
    "\n",
    "# Выводим результаты\n",
    "# напишите здесь Ваш код ...\n"
   ],
   "metadata": {
    "collapsed": false,
    "ExecuteTime": {
     "end_time": "2023-12-22T13:48:41.234143300Z",
     "start_time": "2023-12-22T13:48:38.617843100Z"
    }
   }
  },
  {
   "cell_type": "markdown",
   "source": [
    "## Задача 4: Использование условных операторов\n",
    "\n",
    "Напишите программу, которая определяет, является ли число, введенное пользователем, четным или нечетным."
   ],
   "metadata": {
    "collapsed": false
   }
  },
  {
   "cell_type": "code",
   "execution_count": 4,
   "outputs": [
    {
     "name": "stdout",
     "output_type": "stream",
     "text": [
      "Число 12 четное.\n"
     ]
    }
   ],
   "source": [
    "# Запрашиваем число у пользователя\n",
    "# напишите здесь Ваш код ...\n",
    "\n",
    "# Определяем четность числа\n",
    "# напишите здесь Ваш код ...\n"
   ],
   "metadata": {
    "collapsed": false,
    "ExecuteTime": {
     "end_time": "2023-12-22T13:48:46.493235100Z",
     "start_time": "2023-12-22T13:48:44.735239300Z"
    }
   }
  },
  {
   "cell_type": "markdown",
   "source": [
    "**Тема 2. Типы данных и операции для анализа данных**"
   ],
   "metadata": {
    "collapsed": false
   }
  },
  {
   "cell_type": "markdown",
   "source": [
    "## Задача 1: Работа с различными типами данных\n",
    "\n",
    "Создайте переменные разных типов данных (число, строка, список) и выполните с ними следующие действия:\n",
    "\n",
    "Умножьте число на 2.\n",
    "Добавьте к строке еще одну строку.\n",
    "Добавьте новый элемент в список."
   ],
   "metadata": {
    "collapsed": false
   }
  },
  {
   "cell_type": "code",
   "execution_count": 5,
   "outputs": [
    {
     "name": "stdout",
     "output_type": "stream",
     "text": [
      "Удвоенное число: 20\n",
      "Расширенная строка: Привет, мир!\n",
      "Расширенный список: [1, 2, 3, 4]\n"
     ]
    }
   ],
   "source": [
    "# Создаем переменные\n",
    "# напишите здесь Ваш код ...\n",
    "\n",
    "# Умножаем число на 2\n",
    "# напишите здесь Ваш код ...\n",
    "\n",
    "# Добавляем к строке\n",
    "# напишите здесь Ваш код ...\n",
    "\n",
    "# Добавляем элемент в список\n",
    "# напишите здесь Ваш код ...\n",
    "\n",
    "# Выводим результаты\n",
    "# напишите здесь Ваш код ...\n"
   ],
   "metadata": {
    "collapsed": false,
    "ExecuteTime": {
     "end_time": "2023-12-22T13:48:49.780938200Z",
     "start_time": "2023-12-22T13:48:49.745826300Z"
    }
   }
  },
  {
   "cell_type": "markdown",
   "source": [
    "## Задача 2: Использование математических операторов\n",
    "\n",
    "Вычислите результат следующих операций для чисел 10 и 3: сложение, вычитание, умножение, деление, целочисленное деление, остаток от деления, возведение в степень."
   ],
   "metadata": {
    "collapsed": false
   }
  },
  {
   "cell_type": "code",
   "execution_count": 6,
   "outputs": [
    {
     "name": "stdout",
     "output_type": "stream",
     "text": [
      "Сложение: 13\n",
      "Вычитание: 7\n",
      "Умножение: 30\n",
      "Деление: 3.3333333333333335\n",
      "Целочисленное деление: 3\n",
      "Остаток от деления: 1\n",
      "Возведение в степень: 1000\n"
     ]
    }
   ],
   "source": [
    "# Определяем числа\n",
    "# напишите здесь Ваш код ...\n",
    "\n",
    "# Выполняем операции\n",
    "# напишите здесь Ваш код ...\n",
    "\n",
    "# Выводим результаты\n",
    "# напишите здесь Ваш код ...\n"
   ],
   "metadata": {
    "collapsed": false,
    "ExecuteTime": {
     "end_time": "2023-12-22T13:48:51.824046300Z",
     "start_time": "2023-12-22T13:48:51.792015600Z"
    }
   }
  },
  {
   "cell_type": "markdown",
   "source": [
    "## Задача 3: Работа с типами данных в Pandas\n",
    "\n",
    "Создайте DataFrame в Pandas, содержащий три колонки: числа, строки и логические значения. Выведите типы данных колонок."
   ],
   "metadata": {
    "collapsed": false
   }
  },
  {
   "cell_type": "code",
   "execution_count": 7,
   "outputs": [
    {
     "name": "stdout",
     "output_type": "stream",
     "text": [
      "Числа          int64\n",
      "Строки        object\n",
      "Логические      bool\n",
      "dtype: object\n"
     ]
    }
   ],
   "source": [
    "import pandas as pd\n",
    "\n",
    "# Создаем DataFrame\n",
    "# напишите здесь Ваш код ...\n",
    "\n",
    "# Выводим типы данных колонок\n",
    "# напишите здесь Ваш код ...\n"
   ],
   "metadata": {
    "collapsed": false,
    "ExecuteTime": {
     "end_time": "2023-12-22T13:48:53.614014Z",
     "start_time": "2023-12-22T13:48:52.981363700Z"
    }
   }
  },
  {
   "cell_type": "markdown",
   "source": [
    "## Задача 4: Изучение операторов для работы с последовательностями\n",
    "\n",
    "Дан список [1, 2, 3, 4, 5]. Используйте срезы для выполнения следующих действий:\n",
    "\n",
    "Выведите первые три элемента списка.\n",
    "Выведите список в обратном порядке.\n",
    "Выведите каждый второй элемент списка."
   ],
   "metadata": {
    "collapsed": false
   }
  },
  {
   "cell_type": "code",
   "execution_count": 8,
   "outputs": [
    {
     "name": "stdout",
     "output_type": "stream",
     "text": [
      "Первые три элемента: [1, 2, 3]\n",
      "Список в обратном порядке: [5, 4, 3, 2, 1]\n",
      "Каждый второй элемент: [1, 3, 5]\n"
     ]
    }
   ],
   "source": [
    "# Создаем список\n",
    "# напишите здесь Ваш код ...\n",
    "\n",
    "# Выводим первые три элемента\n",
    "# напишите здесь Ваш код ...\n",
    "\n",
    "# Выводим список в обратном порядке\n",
    "# напишите здесь Ваш код ...\n",
    "\n",
    "# Выводим каждый второй элемент\n",
    "# напишите здесь Ваш код ...\n"
   ],
   "metadata": {
    "collapsed": false,
    "ExecuteTime": {
     "end_time": "2023-12-22T13:48:56.066703700Z",
     "start_time": "2023-12-22T13:48:56.032015700Z"
    }
   }
  },
  {
   "cell_type": "markdown",
   "source": [
    "**Тема 3: Основы программирования для анализа данных**"
   ],
   "metadata": {
    "collapsed": false
   }
  },
  {
   "cell_type": "markdown",
   "source": [
    "## Задача 1: Использование условных операторов в анализе данных\n",
    "\n",
    "Напишите программу, которая определяет, является ли введенное число положительным, отрицательным или нулем."
   ],
   "metadata": {
    "collapsed": false
   }
  },
  {
   "cell_type": "code",
   "execution_count": 9,
   "outputs": [
    {
     "name": "stdout",
     "output_type": "stream",
     "text": [
      "Число положительное.\n"
     ]
    }
   ],
   "source": [
    "# Запрашиваем число у пользователя\n",
    "# напишите здесь Ваш код ...\n",
    "\n",
    "# Проверяем, является ли число положительным, отрицательным или равным нулю\n",
    "# напишите здесь Ваш код ...\n"
   ],
   "metadata": {
    "collapsed": false,
    "ExecuteTime": {
     "end_time": "2023-12-22T13:49:00.142665600Z",
     "start_time": "2023-12-22T13:48:58.595799Z"
    }
   }
  },
  {
   "cell_type": "markdown",
   "source": [
    "## Задача 2: Создание и использование функций\n",
    "\n",
    "Напишите функцию calculate_area, которая принимает радиус круга и возвращает его площадь."
   ],
   "metadata": {
    "collapsed": false
   }
  },
  {
   "cell_type": "code",
   "execution_count": 10,
   "outputs": [
    {
     "name": "stdout",
     "output_type": "stream",
     "text": [
      "Площадь круга: 452.3893421169302\n"
     ]
    }
   ],
   "source": [
    "import math\n",
    "\n",
    "# Определяем функцию для расчета площади круга\n",
    "# напишите здесь Ваш код ...\n",
    "\n",
    "# Тестируем функцию\n",
    "# напишите здесь Ваш код ...\n"
   ],
   "metadata": {
    "collapsed": false,
    "ExecuteTime": {
     "end_time": "2023-12-22T13:49:03.859276100Z",
     "start_time": "2023-12-22T13:49:02.314753400Z"
    }
   }
  },
  {
   "cell_type": "markdown",
   "source": [
    "## Задача 3: Вложенные условные операторы\n",
    "\n",
    "Напишите программу, которая классифицирует возраст человека как \"ребенок\", \"подросток\", \"взрослый\" или \"пожилой\", исходя из введенного возраста."
   ],
   "metadata": {
    "collapsed": false
   }
  },
  {
   "cell_type": "code",
   "execution_count": 11,
   "outputs": [
    {
     "name": "stdout",
     "output_type": "stream",
     "text": [
      "Взрослый\n"
     ]
    }
   ],
   "source": [
    "# Запрашиваем возраст\n",
    "# напишите здесь Ваш код ...\n",
    "\n",
    "# Классифицируем возраст\n",
    "# напишите здесь Ваш код ...\n"
   ],
   "metadata": {
    "collapsed": false,
    "ExecuteTime": {
     "end_time": "2023-12-22T13:49:07.912146Z",
     "start_time": "2023-12-22T13:49:05.680274Z"
    }
   }
  },
  {
   "cell_type": "markdown",
   "source": [
    "## Задача 4: Использование циклов для анализа данных\n",
    "\n",
    "Напишите программу, которая выводит квадраты чисел от 1 до 10 с использованием цикла for."
   ],
   "metadata": {
    "collapsed": false
   }
  },
  {
   "cell_type": "code",
   "execution_count": 12,
   "outputs": [
    {
     "name": "stdout",
     "output_type": "stream",
     "text": [
      "Квадрат числа 1 равен 1\n",
      "Квадрат числа 2 равен 4\n",
      "Квадрат числа 3 равен 9\n",
      "Квадрат числа 4 равен 16\n",
      "Квадрат числа 5 равен 25\n",
      "Квадрат числа 6 равен 36\n",
      "Квадрат числа 7 равен 49\n",
      "Квадрат числа 8 равен 64\n",
      "Квадрат числа 9 равен 81\n",
      "Квадрат числа 10 равен 100\n"
     ]
    }
   ],
   "source": [
    "# Используем цикл for для вывода квадратов чисел от 1 до 10\n",
    "# напишите здесь Ваш код ...\n"
   ],
   "metadata": {
    "collapsed": false,
    "ExecuteTime": {
     "end_time": "2023-12-22T13:49:14.755618Z",
     "start_time": "2023-12-22T13:49:14.707871200Z"
    }
   }
  },
  {
   "cell_type": "markdown",
   "source": [
    "**Тема 4. Циклы и итерации в анализе данных**"
   ],
   "metadata": {
    "collapsed": false
   }
  },
  {
   "cell_type": "markdown",
   "source": [
    "## Задача 1: Использование цикла for для обработки данных\n",
    "\n",
    "Создайте список из пяти чисел. Используйте цикл for, чтобы вывести каждое число, умноженное на 2."
   ],
   "metadata": {
    "collapsed": false
   }
  },
  {
   "cell_type": "code",
   "execution_count": 13,
   "outputs": [
    {
     "name": "stdout",
     "output_type": "stream",
     "text": [
      "2\n",
      "4\n",
      "6\n",
      "8\n",
      "10\n"
     ]
    }
   ],
   "source": [
    "# Создаем список чисел\n",
    "# напишите здесь Ваш код ...\n",
    "\n",
    "# Используем цикл for для обработки и вывода каждого числа, умноженного на 2\n",
    "# напишите здесь Ваш код ...\n"
   ],
   "metadata": {
    "collapsed": false,
    "ExecuteTime": {
     "end_time": "2023-12-22T13:49:19.908702700Z",
     "start_time": "2023-12-22T13:49:19.870423Z"
    }
   }
  },
  {
   "cell_type": "markdown",
   "source": [
    "## Задача 2: Применение цикла while\n",
    "\n",
    "Напишите программу, использующую цикл while, которая считает от 10 до 1, а затем выводит \"Старт!\"."
   ],
   "metadata": {
    "collapsed": false
   }
  },
  {
   "cell_type": "code",
   "execution_count": 14,
   "outputs": [
    {
     "name": "stdout",
     "output_type": "stream",
     "text": [
      "10\n",
      "9\n",
      "8\n",
      "7\n",
      "6\n",
      "5\n",
      "4\n",
      "3\n",
      "2\n",
      "1\n",
      "Старт!\n"
     ]
    }
   ],
   "source": [
    "# Начальное значение счетчика\n",
    "# напишите здесь Ваш код ...\n",
    "\n",
    "# Используем цикл while для обратного отсчета\n",
    "# напишите здесь Ваш код ...\n"
   ],
   "metadata": {
    "collapsed": false,
    "ExecuteTime": {
     "end_time": "2023-12-22T13:49:20.912137800Z",
     "start_time": "2023-12-22T13:49:20.874827100Z"
    }
   }
  },
  {
   "cell_type": "markdown",
   "source": [
    "## Задача 3: Преобразование цикла for в while\n",
    "\n",
    "У вас есть следующий цикл for:\n",
    "\n",
    "```python\n",
    "for i in range(5):\n",
    "    print(i)\n",
    "```\n",
    "Преобразуйте его в цикл while, выполняющий ту же функцию."
   ],
   "metadata": {
    "collapsed": false
   }
  },
  {
   "cell_type": "code",
   "execution_count": 15,
   "outputs": [
    {
     "name": "stdout",
     "output_type": "stream",
     "text": [
      "0\n",
      "1\n",
      "2\n",
      "3\n",
      "4\n"
     ]
    }
   ],
   "source": [
    "# Начальное значение счетчика\n",
    "# напишите здесь Ваш код ...\n",
    "\n",
    "# Используем цикл while для имитации цикла for\n",
    "# напишите здесь Ваш код ..."
   ],
   "metadata": {
    "collapsed": false,
    "ExecuteTime": {
     "end_time": "2023-12-22T13:49:21.616709800Z",
     "start_time": "2023-12-22T13:49:21.581697400Z"
    }
   }
  },
  {
   "cell_type": "markdown",
   "source": [
    "## Задача 4: Использование вложенных циклов\n",
    "\n",
    "Создайте вложенные циклы, где внешний цикл перебирает числа от 1 до 3, а внутренний цикл перебирает числа от 1 до 2. Выведите все комбинации этих чисел."
   ],
   "metadata": {
    "collapsed": false
   }
  },
  {
   "cell_type": "code",
   "execution_count": 16,
   "outputs": [
    {
     "name": "stdout",
     "output_type": "stream",
     "text": [
      "Комбинация: (1, 1)\n",
      "Комбинация: (1, 2)\n",
      "Комбинация: (2, 1)\n",
      "Комбинация: (2, 2)\n",
      "Комбинация: (3, 1)\n",
      "Комбинация: (3, 2)\n"
     ]
    }
   ],
   "source": [
    "# Внешний цикл\n",
    "# напишите здесь Ваш код ...\n"
   ],
   "metadata": {
    "collapsed": false,
    "ExecuteTime": {
     "end_time": "2023-12-22T13:49:22.659733800Z",
     "start_time": "2023-12-22T13:49:22.623725100Z"
    }
   }
  },
  {
   "cell_type": "markdown",
   "source": [
    "**Тема 5. Работа со строками в контексте анализа данных**"
   ],
   "metadata": {
    "collapsed": false
   }
  },
  {
   "cell_type": "markdown",
   "source": [
    "## Задача 1: Применение методов обработки строк в Pandas\n",
    "\n",
    "Дан DataFrame df, содержащий колонку 'Name' со значениями: [\"alice\", \"BOB\", \"Charlie\"]. Преобразуйте все строки в этой колонке к нижнему регистру."
   ],
   "metadata": {
    "collapsed": false
   }
  },
  {
   "cell_type": "code",
   "execution_count": 17,
   "outputs": [
    {
     "name": "stdout",
     "output_type": "stream",
     "text": [
      "      Name\n",
      "0    alice\n",
      "1      bob\n",
      "2  charlie\n"
     ]
    }
   ],
   "source": [
    "import pandas as pd\n",
    "\n",
    "# Создаем DataFrame\n",
    "# напишите здесь Ваш код ...\n",
    "\n",
    "# Преобразуем все строки в колонке 'Name' к нижнему регистру\n",
    "# напишите здесь Ваш код ...\n",
    "\n",
    "# Выводим результат\n",
    "# напишите здесь Ваш код ...\n"
   ],
   "metadata": {
    "collapsed": false,
    "ExecuteTime": {
     "end_time": "2023-12-22T13:49:24.219684200Z",
     "start_time": "2023-12-22T13:49:24.183175300Z"
    }
   }
  },
  {
   "cell_type": "markdown",
   "source": [
    "## Задача 2: Преобразование данных из чисел в строки и обратно в Pandas\n",
    "\n",
    "В DataFrame df с колонкой 'Age' с числовыми значениями, преобразуйте значения этой колонки в строки. Затем преобразуйте их обратно в числа."
   ],
   "metadata": {
    "collapsed": false
   }
  },
  {
   "cell_type": "code",
   "execution_count": 18,
   "outputs": [
    {
     "name": "stdout",
     "output_type": "stream",
     "text": [
      "   Age\n",
      "0   25\n",
      "1   30\n",
      "2   35\n"
     ]
    }
   ],
   "source": [
    "import pandas as pd\n",
    "\n",
    "# Создаем DataFrame\n",
    "# напишите здесь Ваш код ...\n",
    "\n",
    "# Преобразуем числа в строки\n",
    "# напишите здесь Ваш код ...\n",
    "\n",
    "# Преобразуем строки обратно в числа\n",
    "# напишите здесь Ваш код ...\n",
    "\n",
    "# Выводим результат\n",
    "# напишите здесь Ваш код ...\n"
   ],
   "metadata": {
    "collapsed": false,
    "ExecuteTime": {
     "end_time": "2023-12-22T13:49:25.149453500Z",
     "start_time": "2023-12-22T13:49:25.114584200Z"
    }
   }
  },
  {
   "cell_type": "markdown",
   "source": [
    "## Задача 3: Использование регулярных выражений для фильтрации данных\n",
    "\n",
    "Дан DataFrame df с колонкой 'Email'. Отфильтруйте строки, содержащие адреса электронной почты, заканчивающиеся на \".com\"."
   ],
   "metadata": {
    "collapsed": false
   }
  },
  {
   "cell_type": "code",
   "execution_count": 19,
   "outputs": [
    {
     "name": "stdout",
     "output_type": "stream",
     "text": [
      "               Email\n",
      "0  user1@example.com\n",
      "2  user3@example.com\n"
     ]
    }
   ],
   "source": [
    "import pandas as pd\n",
    "\n",
    "# Создаем DataFrame\n",
    "# напишите здесь Ваш код ...\n",
    "\n",
    "# Фильтруем строки, содержащие электронные адреса, заканчивающиеся на \".com\"\n",
    "# напишите здесь Ваш код ...\n",
    "\n",
    "# Выводим результат\n",
    "# напишите здесь Ваш код ...\n"
   ],
   "metadata": {
    "collapsed": false,
    "ExecuteTime": {
     "end_time": "2023-12-22T13:49:26.286253500Z",
     "start_time": "2023-12-22T13:49:26.229238600Z"
    }
   }
  },
  {
   "cell_type": "markdown",
   "source": [
    "## Задача 4: Извлечение данных из строк с помощью регулярных выражений\n",
    "\n",
    "В DataFrame df содержится колонка 'Info' со строками в формате \"Name: [Имя], Age: [Возраст]\". Извлеките имя и возраст в отдельные колонки."
   ],
   "metadata": {
    "collapsed": false
   }
  },
  {
   "cell_type": "code",
   "execution_count": 20,
   "outputs": [
    {
     "name": "stdout",
     "output_type": "stream",
     "text": [
      "                     Info     Name Age\n",
      "0    Name: Alice, Age: 30    Alice  30\n",
      "1      Name: Bob, Age: 25      Bob  25\n",
      "2  Name: Charlie, Age: 35  Charlie  35\n"
     ]
    }
   ],
   "source": [
    "import pandas as pd\n",
    "\n",
    "# Создаем DataFrame\n",
    "# напишите здесь Ваш код ...\n",
    "\n",
    "# Извлекаем имя и возраст в отдельные колонки\n",
    "# напишите здесь Ваш код ...\n",
    "\n",
    "# Выводим результат\n",
    "# напишите здесь Ваш код ...\n"
   ],
   "metadata": {
    "collapsed": false,
    "ExecuteTime": {
     "end_time": "2023-12-22T13:49:27.268310200Z",
     "start_time": "2023-12-22T13:49:27.234286700Z"
    }
   }
  },
  {
   "cell_type": "markdown",
   "source": [
    "**Тема 6. Работа со списками и структурами данных в Pandas**"
   ],
   "metadata": {
    "collapsed": false
   }
  },
  {
   "cell_type": "markdown",
   "source": [
    "## Задача 1: Создание и базовая манипуляция с Series в Pandas\n",
    "\n",
    "Создайте объект Series в Pandas из списка чисел [10, 20, 30, 40, 50]. Затем добавьте к этому объекту Series число 60."
   ],
   "metadata": {
    "collapsed": false
   }
  },
  {
   "cell_type": "code",
   "execution_count": 1,
   "outputs": [
    {
     "name": "stdout",
     "output_type": "stream",
     "text": [
      "0    10\n",
      "1    20\n",
      "2    30\n",
      "3    40\n",
      "4    50\n",
      "5    60\n",
      "dtype: int64\n"
     ]
    }
   ],
   "source": [
    "import pandas as pd\n",
    "\n",
    "# Создаем объект Series из списка чисел\n",
    "# напишите здесь Ваш код ...\n",
    "\n",
    "# Добавляем число 60\n",
    "# напишите здесь Ваш код ...\n",
    "\n",
    "# Выводим результат\n",
    "# напишите здесь Ваш код ..."
   ],
   "metadata": {
    "collapsed": false,
    "ExecuteTime": {
     "end_time": "2023-12-22T19:20:14.069239600Z",
     "start_time": "2023-12-22T19:20:11.713397900Z"
    }
   }
  },
  {
   "cell_type": "markdown",
   "source": [
    "## Задача 2: Работа с DataFrame в Pandas\n",
    "\n",
    "Создайте DataFrame в Pandas, содержащий две колонки: 'Name' и 'Age', с набором имен и возрастов соответственно. Добавьте к этому DataFrame новую строку."
   ],
   "metadata": {
    "collapsed": false
   }
  },
  {
   "cell_type": "code",
   "execution_count": 3,
   "outputs": [
    {
     "name": "stdout",
     "output_type": "stream",
     "text": [
      "      Name  Age\n",
      "0    Alice   25\n",
      "1      Bob   30\n",
      "2  Charlie   35\n",
      "3    David   40\n"
     ]
    }
   ],
   "source": [
    "import pandas as pd\n",
    "\n",
    "# Создаем DataFrame\n",
    "# напишите здесь Ваш код ...\n",
    "\n",
    "# Создаем DataFrame для новой строки\n",
    "# напишите здесь Ваш код ...\n",
    "\n",
    "# Добавляем новую строку\n",
    "# напишите здесь Ваш код ...\n",
    "\n",
    "# Выводим результат\n",
    "# напишите здесь Ваш код ...\n"
   ],
   "metadata": {
    "collapsed": false,
    "ExecuteTime": {
     "end_time": "2023-12-22T19:20:45.359336100Z",
     "start_time": "2023-12-22T19:20:45.223232Z"
    }
   }
  },
  {
   "cell_type": "markdown",
   "source": [
    "## Задача 3: Визуализация данных из Series в Pandas\n",
    "\n",
    "Используйте объект Series, содержащий некоторые числовые значения, для создания простого графика (например, линейного)."
   ],
   "metadata": {
    "collapsed": false
   }
  },
  {
   "cell_type": "code",
   "execution_count": 4,
   "outputs": [
    {
     "data": {
      "text/plain": "<Figure size 640x480 with 1 Axes>",
      "image/png": "[encoded data removed]"
     },
     "metadata": {},
     "output_type": "display_data"
    }
   ],
   "source": [
    "import pandas as pd\n",
    "import matplotlib.pyplot as plt\n",
    "\n",
    "# Создаем объект Series\n",
    "# напишите здесь Ваш код ...\n",
    "\n",
    "# Визуализируем данные\n",
    "# напишите здесь Ваш код ...\n"
   ],
   "metadata": {
    "collapsed": false,
    "ExecuteTime": {
     "end_time": "2023-12-22T19:20:48.957241900Z",
     "start_time": "2023-12-22T19:20:47.256057200Z"
    }
   }
  },
  {
   "cell_type": "markdown",
   "source": [
    "## Задача 4: Визуализация данных из DataFrame в Pandas\n",
    "\n",
    "Используйте DataFrame, содержащий две колонки числовых данных, для создания гистограммы."
   ],
   "metadata": {
    "collapsed": false
   }
  },
  {
   "cell_type": "code",
   "execution_count": 5,
   "outputs": [
    {
     "data": {
      "text/plain": "<Figure size 640x480 with 1 Axes>",
      "image/png": "[encoded data removed]"
     },
     "metadata": {},
     "output_type": "display_data"
    }
   ],
   "source": [
    "import pandas as pd\n",
    "import matplotlib.pyplot as plt\n",
    "\n",
    "# Создаем DataFrame\n",
    "# напишите здесь Ваш код ...\n",
    "\n",
    "# Визуализируем данные\n",
    "# напишите здесь Ваш код ...\n"
   ],
   "metadata": {
    "collapsed": false,
    "ExecuteTime": {
     "end_time": "2023-12-22T19:20:52.500284400Z",
     "start_time": "2023-12-22T19:20:52.343985800Z"
    }
   }
  },
  {
   "cell_type": "markdown",
   "source": [
    "**Тема 7. Использование словарей и структур данных в Pandas**"
   ],
   "metadata": {
    "collapsed": false
   }
  },
  {
   "cell_type": "markdown",
   "source": [
    "## Задача 1: Создание и манипуляция со словарями в Python для анализа данных\n",
    "\n",
    "Создайте словарь, представляющий информацию о студенте: имя, возраст, курс. Затем добавьте в словарь информацию о его специальности."
   ],
   "metadata": {
    "collapsed": false
   }
  },
  {
   "cell_type": "code",
   "execution_count": 6,
   "outputs": [
    {
     "name": "stdout",
     "output_type": "stream",
     "text": [
      "{'name': 'Alice', 'age': 22, 'course': 'Data Science', 'major': 'Computer Science'}\n"
     ]
    }
   ],
   "source": [
    "# Создаем словарь с информацией о студенте\n",
    "# напишите здесь Ваш код ...\n",
    "\n",
    "# Добавляем специальность\n",
    "# напишите здесь Ваш код ...\n",
    "\n",
    "# Выводим обновленный словарь\n",
    "# напишите здесь Ваш код ...\n"
   ],
   "metadata": {
    "collapsed": false,
    "ExecuteTime": {
     "end_time": "2023-12-22T19:20:56.810768500Z",
     "start_time": "2023-12-22T19:20:56.761500800Z"
    }
   }
  },
  {
   "cell_type": "markdown",
   "source": [
    "## Задача 2: Преобразование словаря в DataFrame в Pandas\n",
    "\n",
    "Преобразуйте следующий словарь, содержащий данные о студентах, в DataFrame в Pandas:\n",
    "```python\n",
    "students_data = {\n",
    "    'Name': ['Alice', 'Bob', 'Charlie'],\n",
    "    'Age': [24, 27, 22],\n",
    "    'Major': ['Biology', 'Chemistry', 'Physics']\n",
    "}\n",
    "```"
   ],
   "metadata": {
    "collapsed": false
   }
  },
  {
   "cell_type": "code",
   "execution_count": 7,
   "outputs": [
    {
     "name": "stdout",
     "output_type": "stream",
     "text": [
      "      Name  Age      Major\n",
      "0    Alice   24    Biology\n",
      "1      Bob   27  Chemistry\n",
      "2  Charlie   22    Physics\n"
     ]
    }
   ],
   "source": [
    "import pandas as pd\n",
    "\n",
    "# Создаем словарь\n",
    "# напишите здесь Ваш код ...\n",
    "\n",
    "# Преобразуем словарь в DataFrame\n",
    "# напишите здесь Ваш код ...\n",
    "\n",
    "# Выводим DataFrame\n",
    "# напишите здесь Ваш код ...\n"
   ],
   "metadata": {
    "collapsed": false,
    "ExecuteTime": {
     "end_time": "2023-12-22T19:20:58.916734100Z",
     "start_time": "2023-12-22T19:20:58.879197100Z"
    }
   }
  },
  {
   "cell_type": "markdown",
   "source": [
    "## Задача 3: Работа со сложными структурами данных в Pandas\n",
    "\n",
    "Дан словарь с вложенными словарями, представляющими данные о продажах за разные месяцы. Преобразуйте его в DataFrame:\n",
    "```python\n",
    "sales_data = {\n",
    "    'January': {'Apples': 50, 'Oranges': 35},\n",
    "    'February': {'Apples': 40, 'Oranges': 30}\n",
    "}\n",
    "```"
   ],
   "metadata": {
    "collapsed": false
   }
  },
  {
   "cell_type": "code",
   "execution_count": 8,
   "outputs": [
    {
     "name": "stdout",
     "output_type": "stream",
     "text": [
      "         January  February\n",
      "Apples        50        40\n",
      "Oranges       35        30\n"
     ]
    }
   ],
   "source": [
    "import pandas as pd\n",
    "\n",
    "# Создаем словарь с данными о продажах\n",
    "# напишите здесь Ваш код ...\n",
    "\n",
    "# Преобразуем словарь в DataFrame\n",
    "# напишите здесь Ваш код ...\n",
    "\n",
    "# Выводим DataFrame\n",
    "# напишите здесь Ваш код ...\n"
   ],
   "metadata": {
    "collapsed": false,
    "ExecuteTime": {
     "end_time": "2023-12-22T19:21:00.572479Z",
     "start_time": "2023-12-22T19:21:00.540912800Z"
    }
   }
  },
  {
   "cell_type": "markdown",
   "source": [
    "## Задача 4: Агрегирование данных в DataFrame из словаря\n",
    "Формулировка задачи:\n",
    "Используя DataFrame, созданный из словаря продаж (из предыдущей задачи), рассчитайте общее количество продаж фруктов за каждый меся"
   ],
   "metadata": {
    "collapsed": false
   }
  },
  {
   "cell_type": "code",
   "execution_count": 9,
   "outputs": [
    {
     "name": "stdout",
     "output_type": "stream",
     "text": [
      "January     85\n",
      "February    70\n",
      "dtype: int64\n"
     ]
    }
   ],
   "source": [
    "import pandas as pd\n",
    "\n",
    "# Создаем DataFrame из словаря продаж\n",
    "# напишите здесь Ваш код ...\n",
    "\n",
    "# Рассчитываем общее количество продаж за каждый месяц\n",
    "# напишите здесь Ваш код ...\n",
    "\n",
    "# Выводим результат\n",
    "# напишите здесь Ваш код ...\n"
   ],
   "metadata": {
    "collapsed": false,
    "ExecuteTime": {
     "end_time": "2023-12-22T19:21:02.484967400Z",
     "start_time": "2023-12-22T19:21:02.452352500Z"
    }
   }
  },
  {
   "cell_type": "markdown",
   "source": [
    "**Тема 8. Работа с файлами для анализа данных**"
   ],
   "metadata": {
    "collapsed": false
   }
  },
  {
   "cell_type": "markdown",
   "source": [
    "## Задача 1: Чтение и запись текстового файла в Python\n",
    "\n",
    "Создайте текстовый файл и запишите в него несколько строк. Затем прочитайте файл и выведите его содержимое на экран."
   ],
   "metadata": {
    "collapsed": false
   }
  },
  {
   "cell_type": "code",
   "execution_count": null,
   "outputs": [],
   "source": [
    "# Записываем данные в файл\n",
    "# напишите здесь Ваш код ...\n",
    "\n",
    "# Читаем данные из файла\n",
    "# напишите здесь Ваш код ...\n",
    "\n",
    "# Выводим содержимое файла\n",
    "# напишите здесь Ваш код ...\n"
   ],
   "metadata": {
    "collapsed": false
   }
  },
  {
   "cell_type": "markdown",
   "source": [
    "## Задача 2: Использование Pandas для чтения и записи CSV-файла\n",
    "\n",
    "Используйте Pandas для чтения данных из CSV-файла, а затем сохраните эти данные в новый CSV-файл."
   ],
   "metadata": {
    "collapsed": false
   }
  },
  {
   "cell_type": "code",
   "execution_count": null,
   "outputs": [],
   "source": [
    "import pandas as pd\n",
    "\n",
    "# Чтение данных из CSV-файла\n",
    "# напишите здесь Ваш код ...\n",
    "\n",
    "# Выводим прочитанные данные\n",
    "# напишите здесь Ваш код ...\n",
    "\n",
    "# Сохраняем данные в новый CSV-файл\n",
    "# напишите здесь Ваш код ...\n"
   ],
   "metadata": {
    "collapsed": false
   }
  },
  {
   "cell_type": "markdown",
   "source": [
    "## Задача 3: Чтение JSON-файла с Pandas\n",
    "\n",
    "Используйте Pandas для чтения данных из JSON-файла и выведите эти данные."
   ],
   "metadata": {
    "collapsed": false
   }
  },
  {
   "cell_type": "code",
   "execution_count": null,
   "outputs": [],
   "source": [
    "import pandas as pd\n",
    "\n",
    "# Чтение данных из JSON-файла\n",
    "# напишите здесь Ваш код ...\n",
    "\n",
    "# Выводим прочитанные данные\n",
    "# напишите здесь Ваш код ...\n"
   ],
   "metadata": {
    "collapsed": false
   }
  },
  {
   "cell_type": "markdown",
   "source": [
    "## Задача 4: Чтение Excel-файла с Pandas\n",
    "\n",
    "Используйте Pandas для чтения данных из Excel-файла (.xlsx) и выведите эти данные."
   ],
   "metadata": {
    "collapsed": false
   }
  },
  {
   "cell_type": "code",
   "execution_count": null,
   "outputs": [],
   "source": [
    "import pandas as pd\n",
    "\n",
    "# Чтение данных из Excel-файла\n",
    "# напишите здесь Ваш код ...\n",
    "\n",
    "# Выводим прочитанные данные\n",
    "# напишите здесь Ваш код ...\n"
   ],
   "metadata": {
    "collapsed": false
   }
  }
 ],
 "metadata": {
  "kernelspec": {
   "display_name": "Python 3",
   "language": "python",
   "name": "python3"
  },
  "language_info": {
   "codemirror_mode": {
    "name": "ipython",
    "version": 2
   },
   "file_extension": ".py",
   "mimetype": "text/x-python",
   "name": "python",
   "nbconvert_exporter": "python",
   "pygments_lexer": "ipython2",
   "version": "2.7.6"
  }
 },
 "nbformat": 4,
 "nbformat_minor": 0
}
