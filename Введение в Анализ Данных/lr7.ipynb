{
 "cells": [
  {
   "cell_type": "markdown",
   "source": [
    "**Тема 7. Использование словарей и структур данных в Pandas**"
   ],
   "metadata": {
    "collapsed": false
   }
  },
  {
   "cell_type": "markdown",
   "source": [
    "## Задача 1: Создание и манипуляция со словарями в Python для анализа данных\n",
    "\n",
    "Создайте словарь, представляющий информацию о студенте: имя, возраст, курс. Затем добавьте в словарь информацию о его специальности."
   ],
   "metadata": {
    "collapsed": false
   }
  },
  {
   "cell_type": "code",
   "execution_count": null,
   "outputs": [],
   "source": [],
   "metadata": {
    "collapsed": false
   }
  },
  {
   "cell_type": "code",
   "execution_count": 6,
   "outputs": [
    {
     "name": "stdout",
     "output_type": "stream",
     "text": [
      "{'name': 'Alice', 'age': 22, 'course': 'Data Science', 'major': 'Computer Science'}\n"
     ]
    }
   ],
   "source": [
    "# Создаем словарь с информацией о студенте\n",
    "# напишите здесь Ваш код ...\n",
    "\n",
    "# Добавляем специальность\n",
    "# напишите здесь Ваш код ...\n",
    "\n",
    "# Выводим обновленный словарь\n",
    "# напишите здесь Ваш код ...\n"
   ],
   "metadata": {
    "collapsed": false,
    "ExecuteTime": {
     "end_time": "2023-12-22T19:20:56.810768500Z",
     "start_time": "2023-12-22T19:20:56.761500800Z"
    }
   }
  },
  {
   "cell_type": "markdown",
   "source": [
    "## Задача 2: Преобразование словаря в DataFrame в Pandas\n",
    "\n",
    "Преобразуйте следующий словарь, содержащий данные о студентах, в DataFrame в Pandas:\n",
    "```python\n",
    "students_data = {\n",
    "    'Name': ['Alice', 'Bob', 'Charlie'],\n",
    "    'Age': [24, 27, 22],\n",
    "    'Major': ['Biology', 'Chemistry', 'Physics']\n",
    "}\n",
    "```"
   ],
   "metadata": {
    "collapsed": false
   }
  },
  {
   "cell_type": "code",
   "execution_count": 7,
   "outputs": [
    {
     "name": "stdout",
     "output_type": "stream",
     "text": [
      "      Name  Age      Major\n",
      "0    Alice   24    Biology\n",
      "1      Bob   27  Chemistry\n",
      "2  Charlie   22    Physics\n"
     ]
    }
   ],
   "source": [
    "import pandas as pd\n",
    "\n",
    "# Создаем словарь\n",
    "# напишите здесь Ваш код ...\n",
    "\n",
    "# Преобразуем словарь в DataFrame\n",
    "# напишите здесь Ваш код ...\n",
    "\n",
    "# Выводим DataFrame\n",
    "# напишите здесь Ваш код ...\n"
   ],
   "metadata": {
    "collapsed": false,
    "ExecuteTime": {
     "end_time": "2023-12-22T19:20:58.916734100Z",
     "start_time": "2023-12-22T19:20:58.879197100Z"
    }
   }
  },
  {
   "cell_type": "markdown",
   "source": [
    "## Задача 3: Работа со сложными структурами данных в Pandas\n",
    "\n",
    "Дан словарь с вложенными словарями, представляющими данные о продажах за разные месяцы. Преобразуйте его в DataFrame:\n",
    "```python\n",
    "sales_data = {\n",
    "    'January': {'Apples': 50, 'Oranges': 35},\n",
    "    'February': {'Apples': 40, 'Oranges': 30}\n",
    "}\n",
    "```"
   ],
   "metadata": {
    "collapsed": false
   }
  },
  {
   "cell_type": "code",
   "execution_count": 8,
   "outputs": [
    {
     "name": "stdout",
     "output_type": "stream",
     "text": [
      "         January  February\n",
      "Apples        50        40\n",
      "Oranges       35        30\n"
     ]
    }
   ],
   "source": [
    "import pandas as pd\n",
    "\n",
    "# Создаем словарь с данными о продажах\n",
    "# напишите здесь Ваш код ...\n",
    "\n",
    "# Преобразуем словарь в DataFrame\n",
    "# напишите здесь Ваш код ...\n",
    "\n",
    "# Выводим DataFrame\n",
    "# напишите здесь Ваш код ...\n"
   ],
   "metadata": {
    "collapsed": false,
    "ExecuteTime": {
     "end_time": "2023-12-22T19:21:00.572479Z",
     "start_time": "2023-12-22T19:21:00.540912800Z"
    }
   }
  },
  {
   "cell_type": "markdown",
   "source": [
    "## Задача 4: Агрегирование данных в DataFrame из словаря\n",
    "Формулировка задачи:\n",
    "Используя DataFrame, созданный из словаря продаж (из предыдущей задачи), рассчитайте общее количество продаж фруктов за каждый меся"
   ],
   "metadata": {
    "collapsed": false
   }
  },
  {
   "cell_type": "code",
   "execution_count": 9,
   "outputs": [
    {
     "name": "stdout",
     "output_type": "stream",
     "text": [
      "January     85\n",
      "February    70\n",
      "dtype: int64\n"
     ]
    }
   ],
   "source": [
    "import pandas as pd\n",
    "\n",
    "# Создаем DataFrame из словаря продаж\n",
    "# напишите здесь Ваш код ...\n",
    "\n",
    "# Рассчитываем общее количество продаж за каждый месяц\n",
    "# напишите здесь Ваш код ...\n",
    "\n",
    "# Выводим результат\n",
    "# напишите здесь Ваш код ...\n"
   ],
   "metadata": {
    "collapsed": false,
    "ExecuteTime": {
     "end_time": "2023-12-22T19:21:02.484967400Z",
     "start_time": "2023-12-22T19:21:02.452352500Z"
    }
   }
  }
 ],
 "metadata": {
  "kernelspec": {
   "display_name": "Python 3",
   "language": "python",
   "name": "python3"
  },
  "language_info": {
   "codemirror_mode": {
    "name": "ipython",
    "version": 2
   },
   "file_extension": ".py",
   "mimetype": "text/x-python",
   "name": "python",
   "nbconvert_exporter": "python",
   "pygments_lexer": "ipython2",
   "version": "2.7.6"
  }
 },
 "nbformat": 4,
 "nbformat_minor": 0
}
