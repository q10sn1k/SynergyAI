{
 "cells": [
  {
   "cell_type": "markdown",
   "source": [
    "**Тема 3: Основы программирования для анализа данных**"
   ],
   "metadata": {
    "collapsed": false
   }
  },
  {
   "cell_type": "markdown",
   "source": [
    "## Задача 1: Использование условных операторов в анализе данных\n",
    "\n",
    "Напишите программу, которая определяет, является ли введенное число положительным, отрицательным или нулем."
   ],
   "metadata": {
    "collapsed": false
   }
  },
  {
   "cell_type": "code",
   "execution_count": 9,
   "outputs": [
    {
     "name": "stdout",
     "output_type": "stream",
     "text": [
      "Число положительное.\n"
     ]
    }
   ],
   "source": [
    "# Запрашиваем число у пользователя\n",
    "# напишите здесь Ваш код ...\n",
    "\n",
    "# Проверяем, является ли число положительным, отрицательным или равным нулю\n",
    "# напишите здесь Ваш код ...\n"
   ],
   "metadata": {
    "collapsed": false,
    "ExecuteTime": {
     "end_time": "2023-12-22T13:49:00.142665600Z",
     "start_time": "2023-12-22T13:48:58.595799Z"
    }
   }
  },
  {
   "cell_type": "markdown",
   "source": [
    "## Задача 2: Создание и использование функций\n",
    "\n",
    "Напишите функцию calculate_area, которая принимает радиус круга и возвращает его площадь."
   ],
   "metadata": {
    "collapsed": false
   }
  },
  {
   "cell_type": "code",
   "execution_count": 10,
   "outputs": [
    {
     "name": "stdout",
     "output_type": "stream",
     "text": [
      "Площадь круга: 452.3893421169302\n"
     ]
    }
   ],
   "source": [
    "import math\n",
    "\n",
    "# Определяем функцию для расчета площади круга\n",
    "# напишите здесь Ваш код ...\n",
    "\n",
    "# Тестируем функцию\n",
    "# напишите здесь Ваш код ...\n"
   ],
   "metadata": {
    "collapsed": false,
    "ExecuteTime": {
     "end_time": "2023-12-22T13:49:03.859276100Z",
     "start_time": "2023-12-22T13:49:02.314753400Z"
    }
   }
  },
  {
   "cell_type": "markdown",
   "source": [
    "## Задача 3: Вложенные условные операторы\n",
    "\n",
    "Напишите программу, которая классифицирует возраст человека как \"ребенок\", \"подросток\", \"взрослый\" или \"пожилой\", исходя из введенного возраста."
   ],
   "metadata": {
    "collapsed": false
   }
  },
  {
   "cell_type": "code",
   "execution_count": 11,
   "outputs": [
    {
     "name": "stdout",
     "output_type": "stream",
     "text": [
      "Взрослый\n"
     ]
    }
   ],
   "source": [
    "# Запрашиваем возраст\n",
    "# напишите здесь Ваш код ...\n",
    "\n",
    "# Классифицируем возраст\n",
    "# напишите здесь Ваш код ...\n"
   ],
   "metadata": {
    "collapsed": false,
    "ExecuteTime": {
     "end_time": "2023-12-22T13:49:07.912146Z",
     "start_time": "2023-12-22T13:49:05.680274Z"
    }
   }
  },
  {
   "cell_type": "markdown",
   "source": [
    "## Задача 4: Использование циклов для анализа данных\n",
    "\n",
    "Напишите программу, которая выводит квадраты чисел от 1 до 10 с использованием цикла for."
   ],
   "metadata": {
    "collapsed": false
   }
  },
  {
   "cell_type": "code",
   "execution_count": 12,
   "outputs": [
    {
     "name": "stdout",
     "output_type": "stream",
     "text": [
      "Квадрат числа 1 равен 1\n",
      "Квадрат числа 2 равен 4\n",
      "Квадрат числа 3 равен 9\n",
      "Квадрат числа 4 равен 16\n",
      "Квадрат числа 5 равен 25\n",
      "Квадрат числа 6 равен 36\n",
      "Квадрат числа 7 равен 49\n",
      "Квадрат числа 8 равен 64\n",
      "Квадрат числа 9 равен 81\n",
      "Квадрат числа 10 равен 100\n"
     ]
    }
   ],
   "source": [
    "# Используем цикл for для вывода квадратов чисел от 1 до 10\n",
    "# напишите здесь Ваш код ...\n"
   ],
   "metadata": {
    "collapsed": false,
    "ExecuteTime": {
     "end_time": "2023-12-22T13:49:14.755618Z",
     "start_time": "2023-12-22T13:49:14.707871200Z"
    }
   }
  }
 ],
 "metadata": {
  "kernelspec": {
   "display_name": "Python 3",
   "language": "python",
   "name": "python3"
  },
  "language_info": {
   "codemirror_mode": {
    "name": "ipython",
    "version": 2
   },
   "file_extension": ".py",
   "mimetype": "text/x-python",
   "name": "python",
   "nbconvert_exporter": "python",
   "pygments_lexer": "ipython2",
   "version": "2.7.6"
  }
 },
 "nbformat": 4,
 "nbformat_minor": 0
}
