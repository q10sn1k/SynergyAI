{
 "cells": [
  {
   "cell_type": "markdown",
   "source": [
    "**Тема 3: Введение в рекомендательные системы**"
   ],
   "metadata": {
    "collapsed": false
   }
  },
  {
   "cell_type": "markdown",
   "source": [
    "# Задание 3.1: Реализация Коллаборативной Фильтрации\n",
    "Задание: Создайте простую модель коллаборативной фильтрации для рекомендации продуктов пользователям на основе их предыдущих оценок. Используйте следующий набор данных оценок пользователей для трех продуктов:\n",
    "\n",
    "Пользователь 1: Продукт A - 5, Продукт B - 3\n",
    "Пользователь 2: Продукт A - 4, Продукт C - 2\n",
    "Пользователь 3: Продукт B - 4, Продукт C - 5\n",
    "Предсказать оценку для пользователя 3 для продукта A.\n",
    "\n",
    "```python\n",
    "# Матрица оценок (строки - пользователи, столбцы - продукты A, B, C)\n",
    "ratings = np.array([\n",
    "  [5, 3, 0],  # Пользователь 1\n",
    "  [4, 0, 2],  # Пользователь 2\n",
    "  [0, 4, 5]   # Пользователь 3\n",
    "])\n",
    "```"
   ],
   "metadata": {
    "collapsed": false
   }
  },
  {
   "cell_type": "code",
   "execution_count": 7,
   "outputs": [
    {
     "name": "stdout",
     "output_type": "stream",
     "text": [
      "Предсказанная оценка пользователя 3 для продукта A: 4.48\n"
     ]
    }
   ],
   "source": [
    "from sklearn.metrics.pairwise import cosine_similarity\n",
    "import numpy as np\n",
    "\n",
    "# Матрица оценок (строки - пользователи, столбцы - продукты A, B, C)\n",
    "ratings = np.array([\n",
    "    [5, 3, 0],  # Пользователь 1\n",
    "    [4, 0, 2],  # Пользователь 2\n",
    "    [0, 4, 5]   # Пользователь 3\n",
    "])\n",
    "\n",
    "# Вычисление сходства между пользователями\n",
    "\n",
    "\n",
    "# Предсказание оценки\n",
    "# Сумма сходства * оценка / Сумма сходства\n",
    "\n"
   ],
   "metadata": {
    "collapsed": false,
    "ExecuteTime": {
     "end_time": "2023-12-27T06:17:57.658084500Z",
     "start_time": "2023-12-27T06:17:57.640963700Z"
    }
   }
  },
  {
   "cell_type": "markdown",
   "source": [
    "# Задание 3.2: Анализ Ассоциативных Правил\n",
    "Задание: Используя библиотеку mlxtend, проведите анализ ассоциативных правил для набора транзакций. Представьте три транзакции продуктов и найдите ассоциативные правила с поддержкой не менее 0.5 и уверенностью не менее 0.7.\n",
    "\n",
    "Транзакция 1: Продукт A, Продукт B\n",
    "Транзакция 2: Продукт B\n",
    "Транзакция 3: Продукт A, Продукт B, Продукт C\n",
    "\n",
    "```python\n",
    "# Данные транзакций\n",
    "transactions = [['A', 'B'], ['B'], ['A', 'B', 'C']]\n",
    "```"
   ],
   "metadata": {
    "collapsed": false
   }
  },
  {
   "cell_type": "code",
   "execution_count": 9,
   "outputs": [
    {
     "name": "stdout",
     "output_type": "stream",
     "text": [
      "  antecedents consequents   support  confidence\n",
      "0         (A)         (B)  0.666667         1.0\n"
     ]
    }
   ],
   "source": [
    "import pandas as pd\n",
    "from mlxtend.frequent_patterns import apriori, association_rules\n",
    "from mlxtend.preprocessing import TransactionEncoder\n",
    "\n",
    "# Данные транзакций\n",
    "transactions = [['A', 'B'], ['B'], ['A', 'B', 'C']]\n",
    "\n",
    "# Подготовка данных\n",
    "\n",
    "\n",
    "# Поиск частых наборов\n",
    "\n",
    "\n",
    "# Поиск ассоциативных правил\n",
    "\n"
   ],
   "metadata": {
    "collapsed": false,
    "ExecuteTime": {
     "end_time": "2023-12-27T06:18:36.263278700Z",
     "start_time": "2023-12-27T06:18:36.232951100Z"
    }
   }
  }
 ],
 "metadata": {
  "kernelspec": {
   "display_name": "Python 3",
   "language": "python",
   "name": "python3"
  },
  "language_info": {
   "codemirror_mode": {
    "name": "ipython",
    "version": 2
   },
   "file_extension": ".py",
   "mimetype": "text/x-python",
   "name": "python",
   "nbconvert_exporter": "python",
   "pygments_lexer": "ipython2",
   "version": "2.7.6"
  }
 },
 "nbformat": 4,
 "nbformat_minor": 0
}
